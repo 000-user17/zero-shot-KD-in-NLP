{
 "cells": [
  {
   "cell_type": "code",
   "execution_count": 8,
   "metadata": {},
   "outputs": [],
   "source": [
    "import numpy as np\n",
    "import torch\n",
    "import torch.nn as nn\n",
    "from data_init import class_incremental, Data_Init\n",
    "from model_config import MyModel_Config\n",
    "from pytorch_pretrained_bert import BertConfig, BertTokenizer, BertModel, BertForMaskedLM\n",
    "from torch.utils.data import DataLoader, Dataset, TensorDataset\n",
    "import torch.nn.functional as F\n",
    "import torch.optim as optim\n",
    "import matplotlib.pyplot as plt   #jupyter要matplotlib.pyplot\n",
    "from torch.utils.data import DataLoader, Dataset, TensorDataset\n",
    "import random\n",
    "from train_eval import Model_Train\n",
    "import re\n",
    "from tqdm import *\n",
    "import pandas as pd\n",
    "from pandas import DataFrame\n",
    "from torch.distributions import Dirichlet"
   ]
  },
  {
   "cell_type": "code",
   "execution_count": 3,
   "metadata": {},
   "outputs": [],
   "source": [
    "'''调整随机数'''\n",
    "def setup_seed(seed):\n",
    "     torch.manual_seed(seed)\n",
    "     torch.cuda.manual_seed_all(seed)\n",
    "     np.random.seed(seed)\n",
    "     random.seed(seed)\n",
    "     torch.backends.cudnn.deterministic = True\n",
    "# 设置随机数种子\n",
    "setup_seed(5)"
   ]
  },
  {
   "cell_type": "code",
   "execution_count": 4,
   "metadata": {},
   "outputs": [],
   "source": [
    "'''利用增量数据初始化处理数据集'''\n",
    "train_incremental = class_incremental('./data/snips/train.tsv', 'tsv', 64, 7, 5, True, 9999999) #最后的500表示每个类的数据个数限制\n",
    "train_original_datas, train_incremental_datas_list, train_original_labels, train_all_incremental_labels, labels, label_to_idx = train_incremental.prepare_for_incremental()\n",
    "train_Joint_datasets = train_incremental.Joint_incremental()\n",
    "\n",
    "#初始化验证集的原始类和增量类数据\n",
    "dev_incremental = class_incremental('./data/snips/dev.tsv', 'tsv', 64, 7, 5, True, 999999, 'eval', labels, label_to_idx)\n",
    "dev_original_datas, dev_incremental_datas_list, dev_original_labels, dev_all_incremental_labels = dev_incremental.prepare_for_incremental()\n",
    "dev_Joint_datasets = dev_incremental.Joint_incremental()\n",
    "\n",
    "#初始化测试集的原始类和增量类数据\n",
    "test_incremental = class_incremental('./data/snips/test.tsv', 'tsv', 64, 7, 5, True, 9999999, 'eval', labels, label_to_idx)\n",
    "test_original_datas, test_incremental_datas_list, test_original_labels, test_all_incremental_labels = test_incremental.prepare_for_incremental()\n",
    "test_Joint_datasets = test_incremental.Joint_incremental()"
   ]
  },
  {
   "cell_type": "code",
   "execution_count": 5,
   "metadata": {},
   "outputs": [],
   "source": [
    "'''定义训练模型'''\n",
    "class Teachermodel(nn.Module):\n",
    "    def __init__(self,config):\n",
    "        super(Teachermodel,self).__init__()\n",
    "        self.bert=BertModel.from_pretrained(config.bert_path)  \n",
    "        for param in self.bert.parameters():\n",
    "            param.requires_grad = True\n",
    " \n",
    "        \n",
    "        self.dropout=nn.Dropout(config.dropout)\n",
    "\n",
    "        self.fc1 = nn.Linear(768, 256)\n",
    "        self.fc = nn.Linear(256, config.num_classes ) \n",
    "\n",
    "\n",
    "    def forward(self, tokens):\n",
    "\n",
    "        encoder_out,pooled = self.bert(tokens,output_all_encoded_layers=False) \n",
    "     \n",
    "        out=self.fc1(encoder_out[:,0,:])\n",
    " \n",
    "        out = self.dropout(out)\n",
    "        out = self.fc(out)\n",
    "        \n",
    "        return out\n",
    "\n",
    "\n",
    "'''定义Bert生成模型。通过在一个OOD数据集训练让其输入噪声后可以输出在该OOD上的词汇集'''\n",
    "class Bert_Gen(nn.Module):  #Bert生成模型\n",
    "    def __init__(self, Bert_config): #tokens_len表示生成数据的长度,即最后bert要生成这么长的文本\n",
    "        super(Bert_Gen,self).__init__()\n",
    "        self.device = Bert_config.device\n",
    "        \n",
    "        self.bert1=BertModel.from_pretrained(Bert_config.bertmini_path)  #从路径加载预训练模型\n",
    "        for param in self.bert1.parameters():\n",
    "            param.requires_grad = True # 使参数可更新\n",
    "        \n",
    "        self.fc3= nn.Linear(Bert_config.hidden_size, 1024)\n",
    "        self.fc4 = nn.Linear(1024, 30522)\n",
    "    \n",
    "    def forward(self, z): #tokens表示dataloader中的一个batch的tokens，即去掉label部分的token tensor\n",
    "        \n",
    "\n",
    "        out = z.long()#将经过线性层将正态分布z变为long型整数输入到bert\n",
    "        \n",
    "        encoder_out, pool = self.bert1(out.view(1,-1), output_all_encoded_layers=False) #得到每个token的向量表示\n",
    "        \n",
    "        out = self.fc3(encoder_out.squeeze())  \n",
    "        out = F.relu(out)\n",
    "        out = self.fc4(out)  #经过线性层处理生成新的向量，和bert词表大小相同\n",
    "        out = F.gumbel_softmax(out, 10, True)\n",
    "        \n",
    "        return out  #输出一个batch的softmax [batch_size, 类别的softmax得分]\n",
    "\n",
    "\n",
    "'''用于生成DI数据印象的模型'''\n",
    "class DI_Gen_model(nn.Module):\n",
    "    def __init__(self, teacher_model):\n",
    "        super(DI_Gen_model,self).__init__()\n",
    "        \n",
    "        self.bert_gen = torch.load('./model/bert_genMINI3')\n",
    "        for param in self.bert_gen.parameters():    \n",
    "            param.requires_grad = True\n",
    "            \n",
    "        self.bert_cnn = teacher_model\n",
    "        for param in self.bert_cnn.parameters():    \n",
    "            param.requires_grad = False\n",
    "            \n",
    "    def forward(self, z):\n",
    "        \n",
    "        \n",
    "        tokens = self.bert_gen(z)\n",
    "        tokens = torch.argmax(tokens, dim=1, keepdim=False).long().view(1,-1)\n",
    "        \n",
    "        tokens = tokens.squeeze().tolist()\n",
    "        tokens.append(102)#添加sep符号\n",
    "        tokens.insert(0, 101) #添加cls符号\n",
    "        tokens = torch.tensor(tokens).view(1,-1).to('cuda:1')  #感觉加了之后要好一些\n",
    "        \n",
    "        self.bert_cnn.eval()\n",
    "        out = self.bert_cnn(tokens) #输入(batch_size=1, token_len)的tokens, 输出(batch_size=1, num_classes)的out\n",
    "        \n",
    "        return out, tokens\n",
    "\n"
   ]
  },
  {
   "cell_type": "code",
   "execution_count": 6,
   "metadata": {},
   "outputs": [],
   "source": [
    "'''student模型'''\n",
    "class Bert_student(nn.Module):\n",
    "    def __init__(self,config):\n",
    "        super(Bert_student,self).__init__()\n",
    "        self.bert=BertModel.from_pretrained(config.bertmini_path)  \n",
    "        for param in self.bert.parameters():\n",
    "            param.requires_grad = True\n",
    "        \n",
    "        self.dropout=nn.Dropout(config.dropout)\n",
    "        self.fc = nn.Linear(256, config.num_classes ) \n",
    "\n",
    "\n",
    "    def forward(self, tokens):\n",
    "\n",
    "    \n",
    "        encoder_out,pooled = self.bert(tokens,output_all_encoded_layers=False) \n",
    "        out=self.fc(encoder_out[:,0,:])\n",
    "        out = self.dropout(out)\n",
    "        \n",
    "        return out"
   ]
  },
  {
   "cell_type": "code",
   "execution_count": 10,
   "metadata": {},
   "outputs": [],
   "source": [
    "class Model_Train_ipynb(object):\n",
    "    def __init__(self, isTPCIL=False): #\n",
    "        #self.epochs = MyModel_Config.epochs #训练几个epochs\n",
    "        self.device = 'cuda:0'\n",
    "        self.isTPCIL = isTPCIL\n",
    "        \n",
    "    '''测试集和验证集的精度计算,用于全体验证集或测试集的精度计算\n",
    "    model：要评估的模型\n",
    "    datapath：输入字符串如'./data/snips/valid.csv'，表明要测试的验证集或测试集路径\n",
    "    mode:输入字符串'csv'或'tsv' ，表明要测试的文件格式'''\n",
    "    def my_eval(self, model, datapath, loss_func, mode, label_to_idx_train):\n",
    "        device = self.device\n",
    "        tensor_datas, labels_idx = Data_Init(datapath, 64, mode, 'eval', label_to_idx_train).datas_to_tensors()#输出都是tensor形式\n",
    "\n",
    "        model = model.to(device)\n",
    "        model.eval() #eval()将我们的模型置于评估模式，而不是训练模式。在这种情况下，评估模式关闭了训练中使用的dropout正则化。\n",
    "        accuracy=0\n",
    "        loss_sum=0\n",
    "        with torch.no_grad():\n",
    "            for idx, datas in enumerate(tensor_datas):\n",
    "                tokens = datas[0].to(device)  #tokens输入到bert里得到[batch_size, seq_len, embedding_size]的embedding\n",
    "                labels_idx = datas[1].to(device)\n",
    "                \n",
    "                if self.isTPCIL == False:\n",
    "                    probs = model(tokens).squeeze()  #去除掉[batch_size, 1, len(classes)]中的1维度\n",
    "                elif self.isTPCIL == True:\n",
    "                    _, probs = model(tokens)  #去除掉[batch_size, 1, len(classes)]中的1维度\n",
    "                    probs.squeeze()\n",
    "                loss = loss_func(probs, labels_idx) #\"host_softmax\" not implemented for 'Long'错误出现，如果预测值和标签写反\n",
    "                #虽然这里的probs没有经过softmax处理，但也可以用下面的这个argmax公式，因为softmax不会改变原本数值元素的大小排名\n",
    "                accuracy += (labels_idx == torch.argmax(probs, dim=1)).sum()  #计算预测标签和真实标签相等的数量\n",
    "                loss_sum+=loss.item() #计算所有样本/batch的loss\n",
    "                \n",
    "                last_size = len(datas[1])  #用于保存最后一个batch有多少数据\n",
    "\n",
    "        accuracy = accuracy / (idx*tensor_datas.batch_size + last_size)\n",
    "        accuracy = accuracy.item()\n",
    "        model.train()#从eval模式回到train模式\n",
    "\n",
    "        return accuracy, loss_sum\n",
    "    \n",
    "    '''由于增量学习要求对相应的增量类和原始类数据进行精度的计算，所以如果直接输入验证集路径进去，会导致计算所有类精度，所以这里输入变为直接输入数据\n",
    "    model:要进行精度计算的模型\n",
    "tensor_datas:验证集/测试集的经过Dataloader封装的数据\n",
    "loss_function:用于计算验证集/测试集损失'''\n",
    "\n",
    "    def eval_for_incremental(self, model, tensor_datas, loss_function):\n",
    "        device = self.device\n",
    "        model = model.to(device)\n",
    "\n",
    "        accuracy=0\n",
    "        loss_sum=0\n",
    "    \n",
    "        model.eval() #关闭模型dropout\n",
    "        with torch.no_grad():\n",
    "            idx = 0\n",
    "            for idx, datas in enumerate(tensor_datas):\n",
    "                tokens = datas[0].to(device)  #tokens输入到bert里得到[batch_size, seq_len, embedding_size]的embedding\n",
    "                labels_idx = datas[1].to(device)\n",
    "                \n",
    "                if self.isTPCIL == False:\n",
    "                    probs = model(tokens).squeeze()  #去除掉[batch_size, 1, len(classes)]中的1维度\n",
    "                elif self.isTPCIL == True:\n",
    "                    _, probs = model(tokens)  #去除掉[batch_size, 1, len(classes)]中的1维度\n",
    "                    probs.squeeze()\n",
    "                loss = loss_function(probs, labels_idx) #\"host_softmax\" not implemented for 'Long'错误出现，如果预测值和标签写反\n",
    "            \n",
    "                accuracy += (labels_idx == torch.argmax(probs, dim=1)).sum()  #计算预测标签和真实标签相等的数量\n",
    "                loss_sum+=loss.item() #计算所有样本/batch的loss\n",
    "                \n",
    "                last_size = len(datas[1])  #用于保存最后一个batch有多少数据\n",
    "\n",
    "        accuracy = float(accuracy) / (idx*tensor_datas.batch_size + last_size)\n",
    "\n",
    "        model.train()#从eval模式回到train模式\n",
    "\n",
    "        return accuracy, loss_sum\n",
    "#用法：\n",
    "#eval_for_incremental(model, tensor_datas, loss_function),用法在incremental_learning文件的类中\n",
    "\n",
    "\n",
    "    '''参数：\n",
    "    model：训练模型\n",
    "    loss_func:损失函数\n",
    "    optimizer:优化器\n",
    "    epochs:迭代次数\n",
    "    tensor_datas:要输入的Dataloader封装的数据，默认为MyModel_Config里面的数据\n",
    "    datapath_eval: 如果等于'none'说明不对验证集或测试集进行每个batch训练后的精度和损失计算；如果等于验证集或测试集路径，则进行计算\n",
    "    eval_mode：验证集或测试集的格式，为'csv'或'tsv'.\n",
    "    label_to_idx_train:训练集的标签字典，只有当datapath_eval不为none时候才设置初值'''\n",
    "    def my_train(self, model, loss_func, optimizer, epochs, tensor_datas, datapath_eval='none', eval_mode='csv', label_to_idx_train={}): #增加了需要自己输入的epochs\n",
    "        device = self.device\n",
    "        #epochs = self.epochs\n",
    "        model.train()\n",
    "\n",
    "        model = model.to(device)\n",
    "        losses = [] #存放所有样本一个epoch的损失\n",
    "        accuracies = []\n",
    "        iter = [] #用于绘图的横坐标\n",
    "\n",
    "        #scheduler = torch.optim.lr_scheduler.ExponentialLR(optimizer, gamma=0.99)#每一轮epoch学习率递减\n",
    "        for epoch in tqdm(range(epochs)):\n",
    "            \n",
    "            '''对每个batch的训练'''\n",
    "            for idx, datas in enumerate(tensor_datas):  #idx表示第几个batch，datas为[batch_size, tokens, label]的数据\n",
    "                tokens = datas[0].to(device)\n",
    "                labels = datas[1].to(device)\n",
    "                #labels_one_hot = datas[1].to(device)  #one-hot形式标签，用于损失计算，[batch_size, labels_nums]\n",
    "                #labels = torch.topk(labels_one_hot, 1)[1].view(-1,1)   #要计算精度，就需要非one-hot形式的标签，转化为(batch_size,1)形式的标签\n",
    "        \n",
    "                optimizer.zero_grad() #新batch训练时将梯度归0，防止梯度累积\n",
    "                if self.isTPCIL == False:\n",
    "                    probs = model(tokens).squeeze()  #去除掉[batch_size, 1, len(classes)]中的1维度\n",
    "                elif self.isTPCIL == True:\n",
    "                    _, probs = model(tokens)  #去除掉[batch_size, 1, len(classes)]中的1维度\n",
    "                    probs.squeeze()\n",
    "                loss = loss_func(probs, labels) #\"host_softmax\" not implemented for 'Long'错误出现，如果预测值和标签写反\n",
    "                loss.backward()\n",
    "                optimizer.step()\n",
    "                #scheduler.step()#学习率递减\n",
    "            accuracy_train, loss_sum = self.eval_for_incremental(model, tensor_datas, loss_func)\n",
    "    \n",
    "            if datapath_eval != 'none': \n",
    "                if label_to_idx_train == {}:\n",
    "                    raise ValueError(\"要输出测试集精度模式下需要输入训练集对应的标签字典\")\n",
    "                accuracy_eval, loss_eval = self.my_eval(model, datapath_eval, loss_func, eval_mode, label_to_idx_train)\n",
    "                print('第'+str(epoch)+'的验证集失为：'+str(loss_eval))\n",
    "                print('第'+str(epoch)+'的验证集精度为：'+str(accuracy_eval))\n",
    "            \n",
    "            accuracies.append(accuracy_train) #accuracy上的数据在cuda上，需要放到cpu上才能作图，而loss.item()已经加到cpu上了\n",
    "            losses.append(loss_sum)\n",
    "            iter.append(epoch)\n",
    "            #print(\"the loss of  training data \"+ str(epoch) + \"  is-----------\" + str(loss_sum))\n",
    "            #print(\"the accuracy of training data   \"+ str(epoch) + \"  is-----------\" + str(accuracy_train))\n",
    "    \n",
    "        #plt.figure(1)\n",
    "        #plt.title(\"loss of epoch per————\"+str(loss_func)+ \",\"+ str(epochs)+ \"epochs\")\n",
    "        #plt.xlabel(\"loss per epoch\")\n",
    "        #plt.ylabel(\"LOSS\")\n",
    "        #plt.plot(iter, losses)\n",
    "\n",
    "        #plt.figure(2)\n",
    "        #plt.title(\"accuracy of epoch per————\"+str(accuracy_train)+ \",\"+ str(epochs)+ \"epochs\")\n",
    "        #plt.xlabel(\"accuracy per epoch\")\n",
    "        #plt.ylabel(\"ACCURACY\")\n",
    "        #plt.plot(iter, accuracies)\n",
    "\n",
    "        #plt.show()\n",
    "        return accuracies, losses"
   ]
  },
  {
   "cell_type": "code",
   "execution_count": 11,
   "metadata": {},
   "outputs": [
    {
     "name": "stdout",
     "output_type": "stream",
     "text": [
      "*******************原始数据训练Teacher model**********************\n"
     ]
    },
    {
     "name": "stderr",
     "output_type": "stream",
     "text": [
      "100%|██████████| 10/10 [09:08<00:00, 54.88s/it]\n"
     ]
    },
    {
     "name": "stdout",
     "output_type": "stream",
     "text": [
      "训练集精度变化[0.9849877450980392, 0.9928002450980392, 0.9954810049019608, 0.9967830882352942, 0.9975490196078431, 0.9977787990196079, 0.9980851715686274, 0.9984681372549019, 0.9999234068627451, 1.0]\n",
      "验证集最终精度0.9890625\n",
      "测试集最终精度0.971875\n"
     ]
    }
   ],
   "source": [
    "'''利用原始数据训练并保存Teacher model'''\n",
    "print('*******************原始数据训练Teacher model**********************')\n",
    "teacher_model = Teachermodel(MyModel_Config(train_original_labels))\n",
    "optimizer = torch.optim.AdamW(teacher_model.parameters(), lr=1e-5)\n",
    "loss_fuc = nn.CrossEntropyLoss()\n",
    "\n",
    "'''训练模型，得到精度'''\n",
    "accuracy_train, loss_train = Model_Train_ipynb().my_train(teacher_model, loss_fuc, optimizer, 10, train_original_datas)\n",
    "accuracy_dev, loss_dev = Model_Train_ipynb().eval_for_incremental(teacher_model, dev_original_datas, loss_fuc)\n",
    "accuracy_test, loss_test = Model_Train_ipynb().eval_for_incremental(teacher_model, test_original_datas, loss_fuc)\n",
    "print('训练集精度变化'+str(accuracy_train))\n",
    "print('验证集最终精度'+str(accuracy_dev))\n",
    "print('测试集最终精度'+str(accuracy_test))"
   ]
  },
  {
   "cell_type": "code",
   "execution_count": 12,
   "metadata": {},
   "outputs": [
    {
     "name": "stdout",
     "output_type": "stream",
     "text": [
      "*******************原始数据训练Teacher model**********************\n"
     ]
    },
    {
     "name": "stderr",
     "output_type": "stream",
     "text": [
      "100%|██████████| 10/10 [01:51<00:00, 11.18s/it]\n"
     ]
    },
    {
     "name": "stdout",
     "output_type": "stream",
     "text": [
      "训练集精度变化[0.9440104166666666, 0.9682904411764706, 0.975796568627451, 0.9800091911764706, 0.9856770833333334, 0.9874387254901961, 0.9895067401960784, 0.9892003676470589, 0.9918811274509803, 0.9919577205882353]\n",
      "验证集最终精度0.9890625\n",
      "测试集最终精度0.9703125\n"
     ]
    }
   ],
   "source": [
    "'''利用原始数据训练并保存student model'''\n",
    "print('*******************原始数据训练Teacher model**********************')\n",
    "student_model = Bert_student(MyModel_Config(train_original_labels))\n",
    "optimizer = torch.optim.AdamW(student_model.parameters(), lr=1e-5)\n",
    "loss_fuc = nn.CrossEntropyLoss()\n",
    "\n",
    "'''训练模型，得到精度'''\n",
    "accuracy_train, loss_train = Model_Train_ipynb().my_train(student_model, loss_fuc, optimizer, 10, train_original_datas)\n",
    "accuracy_dev, loss_dev = Model_Train_ipynb().eval_for_incremental(student_model, dev_original_datas, loss_fuc)\n",
    "accuracy_test, loss_test = Model_Train_ipynb().eval_for_incremental(student_model, test_original_datas, loss_fuc)\n",
    "print('训练集精度变化'+str(accuracy_train))\n",
    "print('验证集最终精度'+str(accuracy_dev))\n",
    "print('测试集最终精度'+str(accuracy_test))\n"
   ]
  },
  {
   "cell_type": "code",
   "execution_count": null,
   "metadata": {},
   "outputs": [],
   "source": [
    "'''直接优化noise网络，来达到生成符合迪利克雷分布采样的tokens embeddings, 即直接优化了teacher model的embedding层'''\n",
    "'''训练DI生成模型'''\n",
    "def DI_embedding_trian(dir_samples, ood_data, DI_gen, optimizer, loss_func, loss_func2, label, temper=10, error=1.2, max_iter=True):\n",
    "    device = 'cuda:0'\n",
    "    DI_gen = DI_gen.to(device)\n",
    "    loss_num=999\n",
    "    tokenizer = BertTokenizer.from_pretrained('./bert-pretrained')\n",
    "    DI_gen.train()\n",
    "    for i in range(len(dir_samples)):\n",
    "        count = 0\n",
    "        ood_data = ood_data.view(-1,1).to(device)\n",
    "        #z = torch.randn(30,1).to(device)\n",
    "        tokens_gens=torch.tensor([]).to(device) #选择最小损失的tokens\n",
    "        losses = torch.tensor([]) #保存对应的损失\n",
    "        while loss_num > error:  \n",
    "            \n",
    "            if max_iter == True and count>=300:  #是否设置最大迭代次数1200\n",
    "                break\n",
    "            \n",
    "            optimizer.zero_grad()\n",
    "            \n",
    "            label = label.to(device).long()\n",
    "            dir_sample = dir_samples[i].to(device).view(1,-1)\n",
    "            \n",
    "            probs, tokens_gen = DI_gen(ood_data)\n",
    "            \n",
    "            #loss = loss_func(F.log_softmax(probs / temper, dim=1), dir_sample)\n",
    "            #loss = 0.6*loss_func2(probs, label)\n",
    "            loss = loss_func(F.log_softmax(probs / temper, dim=1), dir_sample) + 0.6*loss_func2(probs, label) #如果不加后面的硬性指标会使得预测的标签混乱\n",
    "            loss_num = loss.item()\n",
    "            \n",
    "            loss.requires_grad_(True) #这里应该是因为如果将最后一层的模型参数梯度关闭，则计算出来的loss也没有梯度，不能追踪，所以要将loss的梯度设置为True\n",
    "            loss.backward()\n",
    "            optimizer.step()\n",
    "            count += 1\n",
    "            \n",
    "            if count%2==0:\n",
    "                tokens_gens = torch.cat([tokens_gens, tokens_gen], dim=0)\n",
    "                losses = torch.cat([losses, torch.tensor([loss_num])])\n",
    "                #print(loss_num)\n",
    "        #print('训练过程中bert_cnn的预测情况'+str(torch.argmax(probs)))\n",
    "            \n",
    "    if max_iter == True and len(tokens_gens) > 0:\n",
    "        tokens_gen = tokens_gens[torch.argmin(losses).item()]  #选择loss最小的\n",
    "            \n",
    "    return tokens_gen\n",
    "        "
   ]
  },
  {
   "cell_type": "code",
   "execution_count": 31,
   "metadata": {},
   "outputs": [],
   "source": [
    "last_layer_weight = teacher_model.fc.weight.detach().to('cpu')  #去除梯度\n",
    "concent_params = torch.zeros([last_layer_weight.shape[0], last_layer_weight.shape[0]])\n",
    "for i in range(len(last_layer_weight)):\n",
    "    for j in range(len(last_layer_weight)):\n",
    "        param = torch.matmul(last_layer_weight[i],last_layer_weight[j])\n",
    "        param = param / (torch.norm(last_layer_weight[i]) * torch.norm(last_layer_weight[j]))  #计算最后一层权重的关系\n",
    "        concent_params[i][j] = param\n",
    "        \n",
    "    max_val = torch.max(concent_params[i])\n",
    "    min_val = torch.min(concent_params[i])\n",
    "    concent_params[i] = (concent_params[i] - min_val + 1e-7) / (max_val-min_val)   #加上1e-7防止有0存在\n",
    "    \n",
    "labels = train_original_labels #绘图用到的标签"
   ]
  },
  {
   "cell_type": "code",
   "execution_count": 32,
   "metadata": {},
   "outputs": [
    {
     "data": {
      "image/png": "[encoded data removed]",
      "text/plain": [
       "<Figure size 1080x1080 with 2 Axes>"
      ]
     },
     "metadata": {
      "needs_background": "light"
     },
     "output_type": "display_data"
    }
   ],
   "source": [
    "'''相似度矩阵绘制'''\n",
    "def similar_matrix_plot(concent_params, num_classes, labels):#绘制混淆矩阵\n",
    "    matrix = concent_params.numpy()  #先放在numpy上才能作图\n",
    "    plt.figure(figsize=(15,15))  #设置画布大小\n",
    "    plt.imshow(matrix, cmap=plt.cm.Oranges)\n",
    "  \n",
    "    # 设置x轴坐标label\n",
    "    tick_marks = np.arange(num_classes)\n",
    "    plt.xticks(tick_marks, labels,fontsize=5)\n",
    "    plt.yticks(tick_marks, labels,fontsize=5)\n",
    "        # 显示colorbar\n",
    "    plt.colorbar()\n",
    "    plt.xlabel('True Labels')\n",
    "    plt.ylabel('Predicted Labels')\n",
    "    plt.title('similarity matrix ')\n",
    "\n",
    "    plt.tight_layout()\n",
    "    plt.show()\n",
    "\n",
    "similar_matrix_plot(concent_params, len(train_original_labels), labels)"
   ]
  },
  {
   "cell_type": "code",
   "execution_count": 33,
   "metadata": {},
   "outputs": [
    {
     "name": "stderr",
     "output_type": "stream",
     "text": [
      "100%|██████████| 760542/760542 [20:25<00:00, 620.47it/s]  \n"
     ]
    },
    {
     "name": "stdout",
     "output_type": "stream",
     "text": [
      "15774\n"
     ]
    }
   ],
   "source": [
    "'''读取OOD的wiki103数据'''\n",
    "import os\n",
    "def _read_wiki(data_dir):\n",
    "    file_name = os.path.join(data_dir, 'wiki.train.tokens')\n",
    "    with open(file_name, encoding='utf-8') as f:\n",
    "        lines = f.readlines()\n",
    "    # 大写字母转换为小写字母\n",
    "    paragraphs = [line.strip().lower().split(' . ')\n",
    "                  for line in lines if len(line.split(' . ')) >= 2]\n",
    "    random.shuffle(paragraphs)\n",
    "    return paragraphs\n",
    "\n",
    "paragraphs = _read_wiki('./wiki103')\n",
    "\n",
    "'''将读取的wiki数据tokenize'''\n",
    "tokenizer = BertTokenizer.from_pretrained('./bert-pretrained')\n",
    "tokens = []\n",
    "datas_size = len(paragraphs)\n",
    "for l in tqdm(range(datas_size)):\n",
    "    for k in range(len(paragraphs[l])):\n",
    "        text = paragraphs[l][k]\n",
    "        text = tokenizer.tokenize(text)\n",
    "        token = tokenizer.convert_tokens_to_ids(text)\n",
    "        tokens.append(token)\n",
    "\n",
    "ood_num = 16000\n",
    "ood_datas = []\n",
    "temp = [[] for i in range(len(tokens))] #这样防止temp和tokens地址相同\n",
    "for i in range(len(tokens)):\n",
    "    temp[i] = tokens[i]\n",
    "for i in range(ood_num):  #Bert最长读512最少读2长度的tokens,所以要处理\n",
    "    if len(temp[i]) <98 and len(temp[i])>2:\n",
    "        ood_datas.append(temp[i])\n",
    "        \n",
    "print(len(ood_datas))"
   ]
  },
  {
   "cell_type": "code",
   "execution_count": 7,
   "metadata": {},
   "outputs": [],
   "source": [
    "'''训练DI生成模型'''\n",
    "def train_DI_gen(dir_samples, ood_data, DI_gen, optimizer, loss_func, loss_func2, label, temper=10, error=1.2, max_iter=True):\n",
    "    device = 'cuda:0'\n",
    "    DI_gen = DI_gen.to(device)\n",
    "    loss_num=999\n",
    "    tokenizer = BertTokenizer.from_pretrained('./bert-pretrained')\n",
    "    DI_gen.train()\n",
    "    for i in range(len(dir_samples)):\n",
    "        count = 0\n",
    "        ood_data = ood_data.view(-1,1).to(device)\n",
    "        #z = torch.randn(30,1).to(device)\n",
    "        tokens_gens=torch.tensor([]).to(device) #选择最小损失的tokens\n",
    "        losses = torch.tensor([]) #保存对应的损失\n",
    "        while loss_num > error:  \n",
    "            \n",
    "            if max_iter == True and count>=300:  #是否设置最大迭代次数1200\n",
    "                break\n",
    "            \n",
    "            optimizer.zero_grad()\n",
    "            \n",
    "            label = label.to(device).long()\n",
    "            dir_sample = dir_samples[i].to(device).view(1,-1)\n",
    "            \n",
    "            probs, tokens_gen = DI_gen(ood_data)\n",
    "            \n",
    "            #loss = loss_func(F.log_softmax(probs / temper, dim=1), dir_sample)\n",
    "            #loss = 0.6*loss_func2(probs, label)\n",
    "            loss = loss_func(F.log_softmax(probs / temper, dim=1), dir_sample) + 0.6*loss_func2(probs, label) #如果不加后面的硬性指标会使得预测的标签混乱\n",
    "            loss_num = loss.item()\n",
    "            \n",
    "            loss.requires_grad_(True) #这里应该是因为如果将最后一层的模型参数梯度关闭，则计算出来的loss也没有梯度，不能追踪，所以要将loss的梯度设置为True\n",
    "            loss.backward()\n",
    "            optimizer.step()\n",
    "            count += 1\n",
    "            \n",
    "            if count%2==0:\n",
    "                tokens_gens = torch.cat([tokens_gens, tokens_gen], dim=0)\n",
    "                losses = torch.cat([losses, torch.tensor([loss_num])])\n",
    "                #print(loss_num)\n",
    "        #print('训练过程中bert_cnn的预测情况'+str(torch.argmax(probs)))\n",
    "            \n",
    "    if max_iter == True and len(tokens_gens) > 0:\n",
    "        tokens_gen = tokens_gens[torch.argmin(losses).item()]  #选择loss最小的\n",
    "            \n",
    "    return tokens_gen\n",
    "        "
   ]
  },
  {
   "cell_type": "code",
   "execution_count": 35,
   "metadata": {},
   "outputs": [],
   "source": [
    "'''定义理想情况，DI数据应该对应的真实标签'''\n",
    "DI_num = len(ood_datas)\n",
    "DI_labels = torch.tensor([])\n",
    "for i in range(len(train_original_labels)):\n",
    "    for k in [1,5]:\n",
    "        for j in range(int(DI_num/len(train_original_labels)/2)):\n",
    "            DI_labels = torch.cat([DI_labels, torch.tensor([i])])"
   ]
  },
  {
   "cell_type": "code",
   "execution_count": 36,
   "metadata": {},
   "outputs": [
    {
     "name": "stderr",
     "output_type": "stream",
     "text": [
      "  0%|          | 0/1126 [00:00<?, ?it/s]/root/deepo/LYL/anaconda/ls/envs/csuse/lib/python3.7/site-packages/torch/nn/functional.py:2398: UserWarning: reduction: 'mean' divides the total loss by both the batch size and the support size.'batchmean' divides only by the batch size, and aligns with the KL div math definition.'mean' will be changed to behave the same as 'batchmean' in the next major release.\n",
      "  warnings.warn(\"reduction: 'mean' divides the total loss by both the batch size and the support size.\"\n",
      "100%|██████████| 1126/1126 [17:58<00:00,  1.04it/s]\n",
      "100%|██████████| 1126/1126 [17:15<00:00,  1.09it/s] \n",
      "100%|██████████| 1126/1126 [24:36<00:00,  1.31s/it]\n",
      "100%|██████████| 1126/1126 [23:51<00:00,  1.27s/it] \n",
      " 78%|███████▊  | 883/1126 [1:42:45<12:48,  3.16s/it]  "
     ]
    }
   ],
   "source": [
    "'''定义DI的生成模型，以及损失函数和优化器'''\n",
    "DI_gen = DI_Gen_model(teacher_model)\n",
    "loss_func = nn.KLDivLoss(reduction = 'mean')\n",
    "loss_func2 = nn.CrossEntropyLoss()\n",
    "optimizer = torch.optim.SGD(DI_gen.parameters(), lr=1e-5)\n",
    "\n",
    "'''生成训练集的DI'''\n",
    "DI_num = len(ood_datas)\n",
    "DI_datas = torch.tensor([])\n",
    "ood_idx = 0\n",
    "for i in range(len(train_original_labels)):  #标签的idx刚好和train_original_labels的下标顺序对应\n",
    "\n",
    "    for k in [0.5,0.8]:  #每种β生成1/2的数据\n",
    "        m = Dirichlet(k*concent_params[i])  #采样每个类的数据\n",
    "        \n",
    "        for j in tqdm(range(int(DI_num/len(train_original_labels)/2))):\n",
    "            x = m.sample().view(1,-1)\n",
    "            \n",
    "            DI_gen = DI_Gen_model(teacher_model)\n",
    "            optimizer = torch.optim.SGD(DI_gen.parameters(), lr=1e-5)\n",
    "            \n",
    "            tokens = train_DI_gen(x, torch.tensor(ood_datas[ood_idx]), DI_gen, optimizer, loss_func, loss_func2, torch.tensor([i]))\n",
    "            ood_idx += 1\n",
    "            \n",
    "            tokens = tokens.squeeze().tolist()\n",
    "            while len(tokens)<100:\n",
    "                tokens.append(0)  #padding到100\n",
    "        \n",
    "            tokens = torch.tensor(tokens)\n",
    "            DI_datas = torch.cat([DI_datas, tokens.to('cpu').view(1,-1)], dim=0)\n",
    "            \n",
    "            '''\n",
    "            bert_cnn.eval()\n",
    "            bert_cnn = bert_cnn.to('cuda:1')\n",
    "            with torch.no_grad():\n",
    "                out = bert_cnn(tokens.to('cuda:1').long().view(1,-1))\n",
    "                print('当前bert_cnn对本token的预测情况'+str(torch.argmax(F.softmax(out), dim=1)))\n",
    "            \n",
    "            bert_cnn.eval()\n",
    "            bert_cnn = bert_cnn.to('cuda:1')\n",
    "            with torch.no_grad():\n",
    "                out = bert_cnn(DI_datas.to('cuda:1').long())\n",
    "                print(torch.argmax(F.softmax(out), dim=1))\n",
    "            '''\n"
   ]
  },
  {
   "cell_type": "code",
   "execution_count": null,
   "metadata": {},
   "outputs": [
    {
     "name": "stdout",
     "output_type": "stream",
     "text": [
      "['[CLS]', 'stability', 'drunk', 'toured', 'horst', 'humour', 'mara', 'nielsen', 'seizure', 'colloquially', 'demand', 'guzman', 'headline', '##uno', '1970', 'mitchell', 'majority', 'fc', '[SEP]', '[PAD]', '[PAD]', '[PAD]', '[PAD]', '[PAD]', '[PAD]', '[PAD]', '[PAD]', '[PAD]', '[PAD]', '[PAD]', '[PAD]', '[PAD]', '[PAD]', '[PAD]', '[PAD]', '[PAD]', '[PAD]', '[PAD]', '[PAD]', '[PAD]', '[PAD]', '[PAD]', '[PAD]', '[PAD]', '[PAD]', '[PAD]', '[PAD]', '[PAD]', '[PAD]', '[PAD]', '[PAD]', '[PAD]', '[PAD]', '[PAD]', '[PAD]', '[PAD]', '[PAD]', '[PAD]', '[PAD]', '[PAD]', '[PAD]', '[PAD]', '[PAD]', '[PAD]', '[PAD]', '[PAD]', '[PAD]', '[PAD]', '[PAD]', '[PAD]', '[PAD]', '[PAD]', '[PAD]', '[PAD]', '[PAD]', '[PAD]', '[PAD]', '[PAD]', '[PAD]', '[PAD]', '[PAD]', '[PAD]', '[PAD]', '[PAD]', '[PAD]', '[PAD]', '[PAD]', '[PAD]', '[PAD]', '[PAD]', '[PAD]', '[PAD]', '[PAD]', '[PAD]', '[PAD]', '[PAD]', '[PAD]', '[PAD]', '[PAD]', '[PAD]']\n"
     ]
    },
    {
     "name": "stderr",
     "output_type": "stream",
     "text": [
      "/root/deepo/LYL/anaconda/ls/envs/csuse/lib/python3.7/site-packages/ipykernel_launcher.py:16: UserWarning: Implicit dimension choice for softmax has been deprecated. Change the call to include dim=X as an argument.\n",
      "  \n"
     ]
    },
    {
     "name": "stdout",
     "output_type": "stream",
     "text": [
      "{0: 597, 1: 8447, 2: 217, 3: 1551, 4: 1061, 5: 814, 6: 3077}\n"
     ]
    }
   ],
   "source": [
    "'''随机测试DI对应的英文'''\n",
    "tokenizer = BertTokenizer.from_pretrained('./bert-pretrained')\n",
    "text = tokenizer.convert_ids_to_tokens(DI_datas[10].tolist())\n",
    "print(text)\n",
    "\n",
    "DI_datasets = TensorDataset(DI_datas.long())\n",
    "DI_datasets = DataLoader(DI_datasets, batch_size=128, shuffle=False, drop_last=False, num_workers=2)\n",
    "\n",
    "'''观察生成DI数据的预测标签特性'''\n",
    "teacher_model.eval()\n",
    "teacher_model = teacher_model.to('cuda:1')\n",
    "DI_pred_labels = torch.tensor([])\n",
    "with torch.no_grad():\n",
    "    for i, data in enumerate(DI_datasets):\n",
    "        out = teacher_model(data[0].to('cuda:1').long())\n",
    "        DI_pred = torch.argmax(F.softmax(out), dim=1) #DI数据输入到bert_cnn中对应的标签\n",
    "        DI_pred_labels = torch.cat([DI_pred_labels, DI_pred.to('cpu')])\n",
    "\n",
    "DI_pred_dict = {} #记录DI预测的不同种类标签个数\n",
    "for i in range(len(train_original_labels)):\n",
    "    DI_pred_dict[i] = 0\n",
    "for i in range(len(DI_pred_labels)):\n",
    "    DI_pred_dict[DI_pred_labels[i].item()] += 1 \n",
    "print(DI_pred_dict)"
   ]
  },
  {
   "cell_type": "code",
   "execution_count": null,
   "metadata": {},
   "outputs": [],
   "source": [
    "'''将DI文件装入Dataloader中'''\n",
    "DI_datasets = TensorDataset(DI_datas.long(), DI_pred_labels.long())\n",
    "DI_datasets = DataLoader(DI_datasets, batch_size=128, shuffle=True, drop_last=True, num_workers=2)"
   ]
  },
  {
   "cell_type": "code",
   "execution_count": null,
   "metadata": {},
   "outputs": [],
   "source": [
    "student_model.eval()\n",
    "student_model = student_model.to('cuda:1')\n",
    "with torch.no_grad():\n",
    "    for i , data in enumerate(DI_datasets):\n",
    "        test_output = student_model(data[0].to('cuda:1'))\n",
    "        x = data[0]"
   ]
  },
  {
   "cell_type": "code",
   "execution_count": null,
   "metadata": {},
   "outputs": [
    {
     "name": "stdout",
     "output_type": "stream",
     "text": [
      "tensor([0, 6, 6, 6, 0, 6, 3, 6, 5, 4, 6, 6, 0, 0, 6, 0, 6, 0, 3, 6, 6, 0, 6, 4,\n",
      "        6, 1, 0, 3, 0, 0, 6, 6, 6, 2, 3, 2, 6, 0, 0, 6, 6, 0, 6, 6, 0, 6, 6, 6,\n",
      "        6, 6, 3, 0, 6, 6, 0, 1, 6, 6, 6, 0, 6, 3, 6, 0, 6, 0, 6, 0, 6, 0, 0, 6,\n",
      "        6, 0, 6, 6, 1, 6, 6, 6, 6, 6, 6, 6, 6, 6, 0, 6, 6, 6, 6, 1, 0, 6, 6, 6,\n",
      "        0, 1, 6, 3, 6, 0, 0, 0, 0, 6, 3, 0, 6, 6, 6, 0, 6, 6, 6, 0, 6, 0, 6, 0,\n",
      "        6, 6, 3, 6, 6, 0, 0, 4], device='cuda:1')\n",
      "tensor([[0.8928, 0.0117, 0.0093, 0.0049, 0.0090, 0.0109, 0.0613],\n",
      "        [0.3312, 0.1498, 0.0206, 0.0381, 0.0208, 0.0120, 0.4275],\n",
      "        [0.0991, 0.0803, 0.0399, 0.1987, 0.0120, 0.0194, 0.5505],\n",
      "        [0.0451, 0.0278, 0.0977, 0.0437, 0.0105, 0.0046, 0.7707],\n",
      "        [0.4445, 0.1643, 0.0844, 0.0842, 0.0487, 0.0094, 0.1645],\n",
      "        [0.3225, 0.1675, 0.0434, 0.0426, 0.0231, 0.0408, 0.3600],\n",
      "        [0.0238, 0.0506, 0.0858, 0.4285, 0.0461, 0.0451, 0.3200],\n",
      "        [0.0684, 0.2565, 0.0720, 0.0373, 0.0149, 0.0096, 0.5413],\n",
      "        [0.0172, 0.0233, 0.0094, 0.3153, 0.0760, 0.4392, 0.1195],\n",
      "        [0.2597, 0.1504, 0.0251, 0.0697, 0.3749, 0.0277, 0.0925],\n",
      "        [0.0362, 0.0373, 0.0333, 0.2883, 0.0113, 0.0053, 0.5882],\n",
      "        [0.3112, 0.1104, 0.0446, 0.0234, 0.0096, 0.0178, 0.4830],\n",
      "        [0.6035, 0.2599, 0.0252, 0.0181, 0.0243, 0.0092, 0.0597],\n",
      "        [0.3706, 0.3104, 0.0257, 0.0771, 0.0259, 0.0152, 0.1752],\n",
      "        [0.1860, 0.0408, 0.0113, 0.1769, 0.1709, 0.0212, 0.3929],\n",
      "        [0.3686, 0.0892, 0.0167, 0.0562, 0.1726, 0.0271, 0.2696],\n",
      "        [0.0880, 0.0325, 0.0172, 0.0538, 0.0144, 0.0218, 0.7723],\n",
      "        [0.3254, 0.2593, 0.0944, 0.1379, 0.0152, 0.0120, 0.1558],\n",
      "        [0.1112, 0.1968, 0.0725, 0.2752, 0.0855, 0.0394, 0.2193],\n",
      "        [0.0433, 0.0180, 0.0243, 0.0388, 0.0102, 0.0106, 0.8548],\n",
      "        [0.2052, 0.1864, 0.0376, 0.0498, 0.0154, 0.0160, 0.4897],\n",
      "        [0.2861, 0.2271, 0.0782, 0.0428, 0.0654, 0.0237, 0.2767],\n",
      "        [0.0755, 0.1120, 0.1731, 0.0386, 0.0301, 0.0201, 0.5506],\n",
      "        [0.1927, 0.1460, 0.0445, 0.1598, 0.3187, 0.0240, 0.1144],\n",
      "        [0.1247, 0.0612, 0.0843, 0.0413, 0.2381, 0.0163, 0.4341],\n",
      "        [0.2422, 0.5471, 0.0777, 0.0392, 0.0380, 0.0133, 0.0425],\n",
      "        [0.3994, 0.2240, 0.0262, 0.1659, 0.0287, 0.0418, 0.1140],\n",
      "        [0.0824, 0.0603, 0.0168, 0.3641, 0.2117, 0.0265, 0.2383],\n",
      "        [0.4433, 0.2688, 0.0269, 0.0789, 0.0536, 0.0126, 0.1159],\n",
      "        [0.4033, 0.1505, 0.0266, 0.1077, 0.1090, 0.0199, 0.1831],\n",
      "        [0.0993, 0.0266, 0.0184, 0.0852, 0.0092, 0.0131, 0.7482],\n",
      "        [0.0487, 0.1663, 0.0950, 0.0397, 0.0105, 0.0079, 0.6319],\n",
      "        [0.2767, 0.0920, 0.0737, 0.0739, 0.0970, 0.0567, 0.3300],\n",
      "        [0.0218, 0.0386, 0.3962, 0.1081, 0.0103, 0.0354, 0.3895],\n",
      "        [0.0367, 0.1199, 0.2270, 0.3811, 0.0253, 0.0202, 0.1898],\n",
      "        [0.0187, 0.0231, 0.8027, 0.0894, 0.0078, 0.0216, 0.0365],\n",
      "        [0.0593, 0.0148, 0.0136, 0.0137, 0.0271, 0.0050, 0.8665],\n",
      "        [0.4189, 0.1415, 0.0218, 0.2812, 0.0405, 0.0061, 0.0898],\n",
      "        [0.4144, 0.1240, 0.0221, 0.0188, 0.0089, 0.0101, 0.4018],\n",
      "        [0.1159, 0.2536, 0.1165, 0.1036, 0.0176, 0.0160, 0.3767],\n",
      "        [0.0420, 0.0258, 0.1367, 0.2905, 0.0255, 0.0215, 0.4579],\n",
      "        [0.5663, 0.0609, 0.0176, 0.0216, 0.0123, 0.0126, 0.3086],\n",
      "        [0.2505, 0.0657, 0.0146, 0.0238, 0.0176, 0.0153, 0.6126],\n",
      "        [0.1825, 0.3207, 0.0521, 0.0804, 0.0193, 0.0134, 0.3316],\n",
      "        [0.4932, 0.0478, 0.0098, 0.0708, 0.0126, 0.0178, 0.3479],\n",
      "        [0.1174, 0.0844, 0.0933, 0.0810, 0.0263, 0.0274, 0.5702],\n",
      "        [0.3118, 0.1223, 0.0570, 0.1164, 0.0461, 0.0203, 0.3260],\n",
      "        [0.2452, 0.1207, 0.0328, 0.0139, 0.0120, 0.0165, 0.5588],\n",
      "        [0.0747, 0.1155, 0.0408, 0.2090, 0.0598, 0.0191, 0.4810],\n",
      "        [0.0328, 0.0237, 0.1327, 0.1841, 0.0407, 0.1149, 0.4711],\n",
      "        [0.0741, 0.0842, 0.0493, 0.3283, 0.0986, 0.0647, 0.3008],\n",
      "        [0.3586, 0.1937, 0.0264, 0.0867, 0.0994, 0.0250, 0.2102],\n",
      "        [0.0264, 0.0169, 0.0290, 0.2414, 0.0170, 0.0061, 0.6633],\n",
      "        [0.1412, 0.0546, 0.0308, 0.0434, 0.0412, 0.0953, 0.5934],\n",
      "        [0.5179, 0.1412, 0.0278, 0.0839, 0.0751, 0.0120, 0.1422],\n",
      "        [0.3651, 0.4227, 0.0166, 0.0187, 0.1134, 0.0188, 0.0447],\n",
      "        [0.1227, 0.1583, 0.0682, 0.0299, 0.0102, 0.0110, 0.5997],\n",
      "        [0.1185, 0.0883, 0.0191, 0.0208, 0.0127, 0.0085, 0.7322],\n",
      "        [0.0252, 0.0325, 0.0340, 0.0146, 0.0045, 0.0050, 0.8843],\n",
      "        [0.4821, 0.1618, 0.0325, 0.0718, 0.1609, 0.0109, 0.0800],\n",
      "        [0.1621, 0.0978, 0.1028, 0.0702, 0.1792, 0.0209, 0.3670],\n",
      "        [0.1450, 0.1270, 0.0630, 0.3634, 0.0945, 0.0244, 0.1826],\n",
      "        [0.0464, 0.0457, 0.0130, 0.0612, 0.0431, 0.0485, 0.7421],\n",
      "        [0.3991, 0.2477, 0.0263, 0.0542, 0.0514, 0.0109, 0.2104],\n",
      "        [0.0692, 0.0964, 0.0224, 0.0462, 0.0110, 0.0503, 0.7045],\n",
      "        [0.4196, 0.2112, 0.0434, 0.0416, 0.0483, 0.0152, 0.2207],\n",
      "        [0.1651, 0.0481, 0.0486, 0.3258, 0.0201, 0.0244, 0.3679],\n",
      "        [0.4076, 0.1358, 0.1021, 0.1328, 0.0884, 0.0146, 0.1188],\n",
      "        [0.3505, 0.1218, 0.0229, 0.0170, 0.0173, 0.0241, 0.4464],\n",
      "        [0.2924, 0.2014, 0.0550, 0.1675, 0.0498, 0.0081, 0.2259],\n",
      "        [0.8245, 0.0214, 0.0156, 0.0110, 0.0222, 0.0195, 0.0857],\n",
      "        [0.2297, 0.0337, 0.0227, 0.0196, 0.0125, 0.0156, 0.6663],\n",
      "        [0.0828, 0.0297, 0.0647, 0.1565, 0.0131, 0.0591, 0.5940],\n",
      "        [0.4110, 0.1854, 0.0895, 0.0534, 0.0246, 0.0237, 0.2123],\n",
      "        [0.2926, 0.0707, 0.0266, 0.0135, 0.0122, 0.0157, 0.5687],\n",
      "        [0.0894, 0.0252, 0.0071, 0.0246, 0.0176, 0.0128, 0.8234],\n",
      "        [0.1890, 0.6332, 0.0348, 0.0272, 0.0204, 0.0076, 0.0878],\n",
      "        [0.3604, 0.0716, 0.0163, 0.0250, 0.0410, 0.0242, 0.4614],\n",
      "        [0.0510, 0.0384, 0.0120, 0.0331, 0.0124, 0.0101, 0.8431],\n",
      "        [0.0131, 0.0480, 0.0441, 0.0882, 0.0067, 0.0149, 0.7850],\n",
      "        [0.0347, 0.0298, 0.0320, 0.1382, 0.0060, 0.0248, 0.7344],\n",
      "        [0.2985, 0.0986, 0.1194, 0.1355, 0.0215, 0.0204, 0.3061],\n",
      "        [0.0184, 0.0122, 0.1973, 0.1380, 0.0099, 0.0633, 0.5610],\n",
      "        [0.0665, 0.0768, 0.0657, 0.1847, 0.0246, 0.0085, 0.5733],\n",
      "        [0.0437, 0.0225, 0.0250, 0.0341, 0.0213, 0.0260, 0.8274],\n",
      "        [0.2195, 0.1235, 0.0550, 0.0490, 0.0573, 0.0128, 0.4828],\n",
      "        [0.6735, 0.0666, 0.0176, 0.0551, 0.0487, 0.0083, 0.1302],\n",
      "        [0.2436, 0.1547, 0.1027, 0.1292, 0.0720, 0.0174, 0.2805],\n",
      "        [0.1848, 0.1530, 0.1139, 0.0702, 0.0223, 0.0160, 0.4398],\n",
      "        [0.1051, 0.0500, 0.0258, 0.0867, 0.0311, 0.0349, 0.6664],\n",
      "        [0.1125, 0.1111, 0.0839, 0.1132, 0.1409, 0.0501, 0.3883],\n",
      "        [0.2718, 0.3076, 0.1068, 0.0255, 0.0196, 0.0233, 0.2454],\n",
      "        [0.3783, 0.2561, 0.0394, 0.0335, 0.0329, 0.0228, 0.2371],\n",
      "        [0.3227, 0.1379, 0.0832, 0.0393, 0.0353, 0.0363, 0.3453],\n",
      "        [0.2197, 0.2672, 0.0249, 0.1303, 0.0345, 0.0151, 0.3084],\n",
      "        [0.1656, 0.1667, 0.0910, 0.0498, 0.0380, 0.0149, 0.4740],\n",
      "        [0.3810, 0.2409, 0.0203, 0.0338, 0.0355, 0.0125, 0.2759],\n",
      "        [0.1318, 0.5852, 0.0361, 0.0313, 0.0665, 0.0278, 0.1215],\n",
      "        [0.2697, 0.1592, 0.1182, 0.0419, 0.0472, 0.0160, 0.3479],\n",
      "        [0.0259, 0.0918, 0.0383, 0.4016, 0.0931, 0.0742, 0.2751],\n",
      "        [0.0536, 0.0645, 0.0723, 0.0412, 0.0545, 0.0336, 0.6803],\n",
      "        [0.4029, 0.1194, 0.1034, 0.1413, 0.0174, 0.0261, 0.1895],\n",
      "        [0.3959, 0.1441, 0.0827, 0.0631, 0.0472, 0.0123, 0.2546],\n",
      "        [0.7026, 0.0526, 0.0141, 0.0139, 0.0201, 0.0129, 0.1838],\n",
      "        [0.4014, 0.0667, 0.0322, 0.0881, 0.1874, 0.0378, 0.1864],\n",
      "        [0.0918, 0.0849, 0.0669, 0.1528, 0.1148, 0.1061, 0.3828],\n",
      "        [0.2353, 0.0351, 0.0246, 0.3468, 0.0317, 0.0158, 0.3107],\n",
      "        [0.5006, 0.1581, 0.0237, 0.0450, 0.1068, 0.0112, 0.1546],\n",
      "        [0.2019, 0.0756, 0.0228, 0.0509, 0.3105, 0.0099, 0.3283],\n",
      "        [0.0281, 0.0563, 0.0694, 0.1521, 0.1188, 0.0731, 0.5022],\n",
      "        [0.0514, 0.0765, 0.0625, 0.3381, 0.0070, 0.0059, 0.4586],\n",
      "        [0.5467, 0.2852, 0.0413, 0.0174, 0.0407, 0.0082, 0.0605],\n",
      "        [0.0670, 0.0902, 0.0206, 0.0671, 0.0355, 0.0203, 0.6992],\n",
      "        [0.3347, 0.0523, 0.0275, 0.0994, 0.1004, 0.0184, 0.3673],\n",
      "        [0.0372, 0.0366, 0.0110, 0.0984, 0.0261, 0.0167, 0.7739],\n",
      "        [0.6524, 0.1902, 0.0182, 0.0265, 0.0857, 0.0094, 0.0177],\n",
      "        [0.1500, 0.1946, 0.0563, 0.1424, 0.0903, 0.0297, 0.3366],\n",
      "        [0.4118, 0.1015, 0.0358, 0.1280, 0.0141, 0.0207, 0.2881],\n",
      "        [0.0392, 0.0212, 0.0352, 0.3525, 0.0520, 0.0256, 0.4743],\n",
      "        [0.3900, 0.2240, 0.0571, 0.0406, 0.1168, 0.0205, 0.1510],\n",
      "        [0.1804, 0.1704, 0.1120, 0.1056, 0.0050, 0.0232, 0.4035],\n",
      "        [0.1530, 0.1326, 0.0495, 0.0671, 0.0685, 0.0291, 0.5003],\n",
      "        [0.0439, 0.0407, 0.0455, 0.4179, 0.0929, 0.0151, 0.3440],\n",
      "        [0.0992, 0.0496, 0.0823, 0.0857, 0.0981, 0.0396, 0.5455],\n",
      "        [0.0917, 0.0912, 0.1485, 0.0676, 0.0326, 0.1302, 0.4382],\n",
      "        [0.4477, 0.0685, 0.0176, 0.0266, 0.0088, 0.0105, 0.4204],\n",
      "        [0.3248, 0.1920, 0.1204, 0.0537, 0.1653, 0.0339, 0.1099],\n",
      "        [0.2526, 0.0624, 0.0214, 0.0454, 0.4417, 0.0260, 0.1507]],\n",
      "       device='cuda:1')\n"
     ]
    }
   ],
   "source": [
    "print(torch.argmax(F.softmax(test_output, dim=1), dim=1))\n",
    "indexs = torch.argmax(F.softmax(test_output, dim=1), dim=1).to('cpu')\n",
    "print(F.softmax(test_output, dim=1))"
   ]
  },
  {
   "cell_type": "code",
   "execution_count": null,
   "metadata": {},
   "outputs": [
    {
     "name": "stdout",
     "output_type": "stream",
     "text": [
      "tensor(0.8928, device='cuda:1')\n",
      "tensor(0.4275, device='cuda:1')\n",
      "tensor(0.5505, device='cuda:1')\n",
      "tensor(0.7707, device='cuda:1')\n",
      "tensor(0.4445, device='cuda:1')\n",
      "tensor(0.3600, device='cuda:1')\n",
      "tensor(0.4285, device='cuda:1')\n",
      "tensor(0.5413, device='cuda:1')\n",
      "tensor(0.4392, device='cuda:1')\n",
      "tensor(0.3749, device='cuda:1')\n",
      "tensor(0.5882, device='cuda:1')\n",
      "tensor(0.4830, device='cuda:1')\n",
      "tensor(0.6035, device='cuda:1')\n",
      "tensor(0.3706, device='cuda:1')\n",
      "tensor(0.3929, device='cuda:1')\n",
      "tensor(0.3686, device='cuda:1')\n",
      "tensor(0.7723, device='cuda:1')\n",
      "tensor(0.3254, device='cuda:1')\n",
      "tensor(0.2752, device='cuda:1')\n",
      "tensor(0.8548, device='cuda:1')\n",
      "tensor(0.4897, device='cuda:1')\n",
      "tensor(0.2861, device='cuda:1')\n",
      "tensor(0.5506, device='cuda:1')\n",
      "tensor(0.3187, device='cuda:1')\n",
      "tensor(0.4341, device='cuda:1')\n",
      "tensor(0.5471, device='cuda:1')\n",
      "tensor(0.3994, device='cuda:1')\n",
      "tensor(0.3641, device='cuda:1')\n",
      "tensor(0.4433, device='cuda:1')\n",
      "tensor(0.4033, device='cuda:1')\n",
      "tensor(0.7482, device='cuda:1')\n",
      "tensor(0.6319, device='cuda:1')\n",
      "tensor(0.3300, device='cuda:1')\n",
      "tensor(0.3962, device='cuda:1')\n",
      "tensor(0.3811, device='cuda:1')\n",
      "tensor(0.8027, device='cuda:1')\n",
      "tensor(0.8665, device='cuda:1')\n",
      "tensor(0.4189, device='cuda:1')\n",
      "tensor(0.4144, device='cuda:1')\n",
      "tensor(0.3767, device='cuda:1')\n",
      "tensor(0.4579, device='cuda:1')\n",
      "tensor(0.5663, device='cuda:1')\n",
      "tensor(0.6126, device='cuda:1')\n",
      "tensor(0.3316, device='cuda:1')\n",
      "tensor(0.4932, device='cuda:1')\n",
      "tensor(0.5702, device='cuda:1')\n",
      "tensor(0.3260, device='cuda:1')\n",
      "tensor(0.5588, device='cuda:1')\n",
      "tensor(0.4810, device='cuda:1')\n",
      "tensor(0.4711, device='cuda:1')\n",
      "tensor(0.3283, device='cuda:1')\n",
      "tensor(0.3586, device='cuda:1')\n",
      "tensor(0.6633, device='cuda:1')\n",
      "tensor(0.5934, device='cuda:1')\n",
      "tensor(0.5179, device='cuda:1')\n",
      "tensor(0.4227, device='cuda:1')\n",
      "tensor(0.5997, device='cuda:1')\n",
      "tensor(0.7322, device='cuda:1')\n",
      "tensor(0.8843, device='cuda:1')\n",
      "tensor(0.4821, device='cuda:1')\n",
      "tensor(0.3670, device='cuda:1')\n",
      "tensor(0.3634, device='cuda:1')\n",
      "tensor(0.7421, device='cuda:1')\n",
      "tensor(0.3991, device='cuda:1')\n",
      "tensor(0.7045, device='cuda:1')\n",
      "tensor(0.4196, device='cuda:1')\n",
      "tensor(0.3679, device='cuda:1')\n",
      "tensor(0.4076, device='cuda:1')\n",
      "tensor(0.4464, device='cuda:1')\n",
      "tensor(0.2924, device='cuda:1')\n",
      "tensor(0.8245, device='cuda:1')\n",
      "tensor(0.6663, device='cuda:1')\n",
      "tensor(0.5940, device='cuda:1')\n",
      "tensor(0.4110, device='cuda:1')\n",
      "tensor(0.5687, device='cuda:1')\n",
      "tensor(0.8234, device='cuda:1')\n",
      "tensor(0.6332, device='cuda:1')\n",
      "tensor(0.4614, device='cuda:1')\n",
      "tensor(0.8431, device='cuda:1')\n",
      "tensor(0.7850, device='cuda:1')\n",
      "tensor(0.7344, device='cuda:1')\n",
      "tensor(0.3061, device='cuda:1')\n",
      "tensor(0.5610, device='cuda:1')\n",
      "tensor(0.5733, device='cuda:1')\n",
      "tensor(0.8274, device='cuda:1')\n",
      "tensor(0.4828, device='cuda:1')\n",
      "tensor(0.6735, device='cuda:1')\n",
      "tensor(0.2805, device='cuda:1')\n",
      "tensor(0.4398, device='cuda:1')\n",
      "tensor(0.6664, device='cuda:1')\n",
      "tensor(0.3883, device='cuda:1')\n",
      "tensor(0.3076, device='cuda:1')\n",
      "tensor(0.3783, device='cuda:1')\n",
      "tensor(0.3453, device='cuda:1')\n",
      "tensor(0.3084, device='cuda:1')\n",
      "tensor(0.4740, device='cuda:1')\n",
      "tensor(0.3810, device='cuda:1')\n",
      "tensor(0.5852, device='cuda:1')\n",
      "tensor(0.3479, device='cuda:1')\n",
      "tensor(0.4016, device='cuda:1')\n",
      "tensor(0.6803, device='cuda:1')\n",
      "tensor(0.4029, device='cuda:1')\n",
      "tensor(0.3959, device='cuda:1')\n",
      "tensor(0.7026, device='cuda:1')\n",
      "tensor(0.4014, device='cuda:1')\n",
      "tensor(0.3828, device='cuda:1')\n",
      "tensor(0.3468, device='cuda:1')\n",
      "tensor(0.5006, device='cuda:1')\n",
      "tensor(0.3283, device='cuda:1')\n",
      "tensor(0.5022, device='cuda:1')\n",
      "tensor(0.4586, device='cuda:1')\n",
      "tensor(0.5467, device='cuda:1')\n",
      "tensor(0.6992, device='cuda:1')\n",
      "tensor(0.3673, device='cuda:1')\n",
      "tensor(0.7739, device='cuda:1')\n",
      "tensor(0.6524, device='cuda:1')\n",
      "tensor(0.3366, device='cuda:1')\n",
      "tensor(0.4118, device='cuda:1')\n",
      "tensor(0.4743, device='cuda:1')\n",
      "tensor(0.3900, device='cuda:1')\n",
      "tensor(0.4035, device='cuda:1')\n",
      "tensor(0.5003, device='cuda:1')\n",
      "tensor(0.4179, device='cuda:1')\n",
      "tensor(0.5455, device='cuda:1')\n",
      "tensor(0.4382, device='cuda:1')\n",
      "tensor(0.4477, device='cuda:1')\n",
      "tensor(0.3248, device='cuda:1')\n",
      "tensor(0.4417, device='cuda:1')\n"
     ]
    }
   ],
   "source": [
    "for i in range(len(indexs)):\n",
    "    print(F.softmax(test_output, dim=1)[i][indexs[i]])"
   ]
  },
  {
   "cell_type": "code",
   "execution_count": null,
   "metadata": {},
   "outputs": [
    {
     "name": "stdout",
     "output_type": "stream",
     "text": [
      "7199\n",
      "15744\n"
     ]
    }
   ],
   "source": [
    "student_model.eval()\n",
    "student_model = student_model.to('cuda:1')\n",
    "with torch.no_grad():\n",
    "    count = 0\n",
    "    test_num = 0\n",
    "    for i , data in enumerate(DI_datasets):\n",
    "        test_output = student_model(data[0].to('cuda:1'))\n",
    "        idxs = torch.argmax(F.softmax(test_output, dim=1), dim=1).to('cpu')\n",
    "        for j in range(len(idxs)):\n",
    "            if F.softmax(test_output, dim=1)[j][idxs[j]] > 0.50:\n",
    "                count+=1\n",
    "            test_num += 1\n",
    "print(count)\n",
    "print(test_num)"
   ]
  },
  {
   "cell_type": "code",
   "execution_count": null,
   "metadata": {},
   "outputs": [],
   "source": [
    "'''尝试2019DI的zero-shot蒸馏student模型的训练函数\n",
    "参数：\n",
    "teacher_model:被提取的模型\n",
    "student_model:要提取出的模型\n",
    "datas:DI生成的数据，用Dataloader封装\n",
    "optimizer:优化器，只优化student_model的参数\n",
    "loss_func:采用KL散度，或是MSE等保持teacher和student的softmax输出的相似性\n",
    "temper:KL散度的温度系数,不能设置太高，经过实验探究，设置到4左右效果最好\n",
    "'''\n",
    "def train_KD_student(teacher_model, student_model, datas, optimizer, loss_func, loss_func2, temper, epochs , train_original_datas, dev_original_datas, test_original_datas):\n",
    "    device = 'cuda:1'\n",
    "    teacher_model = teacher_model.to(device)\n",
    "    student_model = student_model.to(device)\n",
    "    teacher_model.eval()\n",
    "    student_model.train()\n",
    "    \n",
    "    losses = [] #存放所有样本一个epoch的损失\n",
    "    accuracies = []\n",
    "    \n",
    "    max_acc_fin = 0 #记录最终最大精度测试集组并输出\n",
    "    #scheduler = torch.optim.lr_scheduler.ExponentialLR(optimizer, gamma=0.99)#每一轮epoch学习率递减\n",
    "    for epoch in tqdm(range(epochs)):\n",
    "        max_acc_test = 0\n",
    "        '''对每个batch的训练'''\n",
    "        for idx, data in enumerate(datas):  #idx表示第几个batch，datas为[batch_size, tokens, label]的数据\n",
    "            student_model.train()\n",
    "            tokens = data[0].to(device)\n",
    "            #labels = data[1].to(device)\n",
    "        \n",
    "            optimizer.zero_grad() #新batch训练时将梯度归0，防止梯度累积\n",
    "            \n",
    "            with torch.no_grad():\n",
    "                probs_teacher = teacher_model(tokens)\n",
    "            \n",
    "            probs_student = student_model(tokens)\n",
    "            \n",
    "            loss = loss_func(F.log_softmax(probs_student / temper, dim=1), F.softmax(probs_teacher / temper, dim=1))\n",
    "            #loss = 0.8*loss_func(F.log_softmax(probs_student / temper, dim=1), F.softmax(probs_teacher / temper, dim=1)) + 0.2*loss_func2(probs_student, labels)\n",
    "            loss.backward()  #这里不用loss.requires_grad_(True)的原因是优化器优化的参数中间步骤不包括梯度不动的teacher_model\n",
    "            optimizer.step()\n",
    "            #scheduler.step()#学习率递减\n",
    "            \n",
    "            student_model.eval()\n",
    "            accuracy_test, _ = Model_Train().eval_for_incremental(student_model, test_original_datas, loss_func2)\n",
    "            \n",
    "            if max_acc_test<accuracy_test:\n",
    "                max_acc_test = accuracy_test\n",
    "                accuracy_train, _ = Model_Train().eval_for_incremental(student_model, train_original_datas, loss_func2)\n",
    "                accuracy_dev, _ = Model_Train().eval_for_incremental(student_model, dev_original_datas, loss_func2)\n",
    "        \n",
    "        print('训练集精度'+str(accuracy_train))\n",
    "        print('验证集精度'+str(accuracy_dev))\n",
    "        print('测试集精度'+str(max_acc_test))\n",
    "        \n",
    "        if max_acc_fin<max_acc_test:\n",
    "            max_acc_fin = max_acc_test\n",
    "            accuracy_train_fin = accuracy_train\n",
    "            accuracy_dev_fin = accuracy_dev\n",
    "\n",
    "        student_model.train()\n",
    "    \n",
    "    print('训练集最终精度'+str(accuracy_train_fin))\n",
    "    print('验证集最终精度'+str(accuracy_dev_fin))\n",
    "    print('测试集最终精度'+str(max_acc_fin))\n",
    "               "
   ]
  },
  {
   "cell_type": "code",
   "execution_count": null,
   "metadata": {},
   "outputs": [
    {
     "name": "stdout",
     "output_type": "stream",
     "text": [
      "*******************利用DI训练student model，加上student与teachermodel对DI的softmax输出KL散度做损失****************************\n",
      "0.14070159313725492\n",
      "0.1484375\n",
      "0.1515625\n"
     ]
    },
    {
     "name": "stderr",
     "output_type": "stream",
     "text": [
      "  3%|▎         | 1/30 [02:25<1:10:18, 145.48s/it]"
     ]
    },
    {
     "name": "stdout",
     "output_type": "stream",
     "text": [
      "训练集精度0.40732230392156865\n",
      "验证集精度0.390625\n",
      "测试集精度0.4625\n"
     ]
    },
    {
     "name": "stderr",
     "output_type": "stream",
     "text": [
      "  7%|▋         | 2/30 [05:15<1:14:37, 159.89s/it]"
     ]
    },
    {
     "name": "stdout",
     "output_type": "stream",
     "text": [
      "训练集精度0.7701439950980392\n",
      "验证集精度0.753125\n",
      "测试集精度0.775\n"
     ]
    },
    {
     "name": "stderr",
     "output_type": "stream",
     "text": [
      " 10%|█         | 3/30 [07:33<1:07:24, 149.81s/it]"
     ]
    },
    {
     "name": "stdout",
     "output_type": "stream",
     "text": [
      "训练集精度0.8641237745098039\n",
      "验证集精度0.8546875\n",
      "测试集精度0.8609375\n"
     ]
    },
    {
     "name": "stderr",
     "output_type": "stream",
     "text": [
      " 13%|█▎        | 4/30 [09:28<59:04, 136.32s/it]  "
     ]
    },
    {
     "name": "stdout",
     "output_type": "stream",
     "text": [
      "训练集精度0.9050245098039216\n",
      "验证集精度0.9015625\n",
      "测试集精度0.890625\n"
     ]
    },
    {
     "name": "stderr",
     "output_type": "stream",
     "text": [
      " 17%|█▋        | 5/30 [11:18<52:43, 126.56s/it]"
     ]
    },
    {
     "name": "stdout",
     "output_type": "stream",
     "text": [
      "训练集精度0.9188112745098039\n",
      "验证集精度0.91875\n",
      "测试集精度0.9125\n"
     ]
    },
    {
     "name": "stderr",
     "output_type": "stream",
     "text": [
      " 20%|██        | 6/30 [13:05<47:59, 119.98s/it]"
     ]
    },
    {
     "name": "stdout",
     "output_type": "stream",
     "text": [
      "训练集精度0.9184283088235294\n",
      "验证集精度0.925\n",
      "测试集精度0.9125\n"
     ]
    },
    {
     "name": "stderr",
     "output_type": "stream",
     "text": [
      " 23%|██▎       | 7/30 [14:54<44:38, 116.44s/it]"
     ]
    },
    {
     "name": "stdout",
     "output_type": "stream",
     "text": [
      "训练集精度0.9241727941176471\n",
      "验证集精度0.940625\n",
      "测试集精度0.9109375\n"
     ]
    },
    {
     "name": "stderr",
     "output_type": "stream",
     "text": [
      " 27%|██▋       | 8/30 [16:47<42:20, 115.49s/it]"
     ]
    },
    {
     "name": "stdout",
     "output_type": "stream",
     "text": [
      "训练集精度0.934359681372549\n",
      "验证集精度0.94375\n",
      "测试集精度0.9109375\n"
     ]
    },
    {
     "name": "stderr",
     "output_type": "stream",
     "text": [
      " 30%|███       | 9/30 [18:40<40:02, 114.42s/it]"
     ]
    },
    {
     "name": "stdout",
     "output_type": "stream",
     "text": [
      "训练集精度0.9413296568627451\n",
      "验证集精度0.94375\n",
      "测试集精度0.9109375\n"
     ]
    },
    {
     "name": "stderr",
     "output_type": "stream",
     "text": [
      " 33%|███▎      | 10/30 [20:27<37:24, 112.22s/it]"
     ]
    },
    {
     "name": "stdout",
     "output_type": "stream",
     "text": [
      "训练集精度0.9402573529411765\n",
      "验证集精度0.934375\n",
      "测试集精度0.9125\n"
     ]
    },
    {
     "name": "stderr",
     "output_type": "stream",
     "text": [
      " 37%|███▋      | 11/30 [22:12<34:50, 110.05s/it]"
     ]
    },
    {
     "name": "stdout",
     "output_type": "stream",
     "text": [
      "训练集精度0.9319087009803921\n",
      "验证集精度0.9296875\n",
      "测试集精度0.9203125\n"
     ]
    },
    {
     "name": "stderr",
     "output_type": "stream",
     "text": [
      " 40%|████      | 12/30 [23:59<32:44, 109.16s/it]"
     ]
    },
    {
     "name": "stdout",
     "output_type": "stream",
     "text": [
      "训练集精度0.9437040441176471\n",
      "验证集精度0.946875\n",
      "测试集精度0.909375\n"
     ]
    },
    {
     "name": "stderr",
     "output_type": "stream",
     "text": [
      " 43%|████▎     | 13/30 [25:53<31:18, 110.50s/it]"
     ]
    },
    {
     "name": "stdout",
     "output_type": "stream",
     "text": [
      "训练集精度0.9365808823529411\n",
      "验证集精度0.94375\n",
      "测试集精度0.9125\n"
     ]
    },
    {
     "name": "stderr",
     "output_type": "stream",
     "text": [
      " 47%|████▋     | 14/30 [27:40<29:11, 109.50s/it]"
     ]
    },
    {
     "name": "stdout",
     "output_type": "stream",
     "text": [
      "训练集精度0.9424785539215687\n",
      "验证集精度0.940625\n",
      "测试集精度0.915625\n"
     ]
    },
    {
     "name": "stderr",
     "output_type": "stream",
     "text": [
      " 50%|█████     | 15/30 [29:32<27:32, 110.15s/it]"
     ]
    },
    {
     "name": "stdout",
     "output_type": "stream",
     "text": [
      "训练集精度0.9410998774509803\n",
      "验证集精度0.946875\n",
      "测试集精度0.9140625\n"
     ]
    },
    {
     "name": "stderr",
     "output_type": "stream",
     "text": [
      " 53%|█████▎    | 16/30 [31:17<25:20, 108.60s/it]"
     ]
    },
    {
     "name": "stdout",
     "output_type": "stream",
     "text": [
      "训练集精度0.9291513480392157\n",
      "验证集精度0.9421875\n",
      "测试集精度0.9078125\n"
     ]
    },
    {
     "name": "stderr",
     "output_type": "stream",
     "text": [
      " 57%|█████▋    | 17/30 [33:11<23:53, 110.26s/it]"
     ]
    },
    {
     "name": "stdout",
     "output_type": "stream",
     "text": [
      "训练集精度0.9377297794117647\n",
      "验证集精度0.94375\n",
      "测试集精度0.90625\n"
     ]
    },
    {
     "name": "stderr",
     "output_type": "stream",
     "text": [
      " 60%|██████    | 18/30 [35:00<22:01, 110.10s/it]"
     ]
    },
    {
     "name": "stdout",
     "output_type": "stream",
     "text": [
      "训练集精度0.9325980392156863\n",
      "验证集精度0.9453125\n",
      "测试集精度0.9046875\n"
     ]
    },
    {
     "name": "stderr",
     "output_type": "stream",
     "text": [
      " 63%|██████▎   | 19/30 [36:50<20:08, 109.84s/it]"
     ]
    },
    {
     "name": "stdout",
     "output_type": "stream",
     "text": [
      "训练集精度0.9405637254901961\n",
      "验证集精度0.9421875\n",
      "测试集精度0.9046875\n"
     ]
    },
    {
     "name": "stderr",
     "output_type": "stream",
     "text": [
      " 67%|██████▋   | 20/30 [38:39<18:16, 109.68s/it]"
     ]
    },
    {
     "name": "stdout",
     "output_type": "stream",
     "text": [
      "训练集精度0.9351256127450981\n",
      "验证集精度0.94375\n",
      "测试集精度0.90625\n"
     ]
    },
    {
     "name": "stderr",
     "output_type": "stream",
     "text": [
      " 70%|███████   | 21/30 [40:33<16:38, 110.92s/it]"
     ]
    },
    {
     "name": "stdout",
     "output_type": "stream",
     "text": [
      "训练集精度0.9433976715686274\n",
      "验证集精度0.946875\n",
      "测试集精度0.915625\n"
     ]
    },
    {
     "name": "stderr",
     "output_type": "stream",
     "text": [
      " 73%|███████▎  | 22/30 [42:18<14:33, 109.18s/it]"
     ]
    },
    {
     "name": "stdout",
     "output_type": "stream",
     "text": [
      "训练集精度0.936734068627451\n",
      "验证集精度0.9484375\n",
      "测试集精度0.909375\n"
     ]
    },
    {
     "name": "stderr",
     "output_type": "stream",
     "text": [
      " 77%|███████▋  | 23/30 [44:16<13:03, 111.87s/it]"
     ]
    },
    {
     "name": "stdout",
     "output_type": "stream",
     "text": [
      "训练集精度0.9306832107843137\n",
      "验证集精度0.9390625\n",
      "测试集精度0.90625\n"
     ]
    },
    {
     "name": "stderr",
     "output_type": "stream",
     "text": [
      " 80%|████████  | 24/30 [46:01<10:58, 109.72s/it]"
     ]
    },
    {
     "name": "stdout",
     "output_type": "stream",
     "text": [
      "训练集精度0.9363511029411765\n",
      "验证集精度0.940625\n",
      "测试集精度0.90625\n"
     ]
    },
    {
     "name": "stderr",
     "output_type": "stream",
     "text": [
      " 83%|████████▎ | 25/30 [47:49<09:06, 109.26s/it]"
     ]
    },
    {
     "name": "stdout",
     "output_type": "stream",
     "text": [
      "训练集精度0.9349724264705882\n",
      "验证集精度0.9375\n",
      "测试集精度0.90625\n"
     ]
    },
    {
     "name": "stderr",
     "output_type": "stream",
     "text": [
      " 87%|████████▋ | 26/30 [49:51<07:32, 113.16s/it]"
     ]
    },
    {
     "name": "stdout",
     "output_type": "stream",
     "text": [
      "训练集精度0.9329044117647058\n",
      "验证集精度0.9328125\n",
      "测试集精度0.9125\n"
     ]
    },
    {
     "name": "stderr",
     "output_type": "stream",
     "text": [
      " 90%|█████████ | 27/30 [51:38<05:34, 111.42s/it]"
     ]
    },
    {
     "name": "stdout",
     "output_type": "stream",
     "text": [
      "训练集精度0.9293811274509803\n",
      "验证集精度0.940625\n",
      "测试集精度0.9046875\n"
     ]
    },
    {
     "name": "stderr",
     "output_type": "stream",
     "text": [
      " 93%|█████████▎| 28/30 [53:27<03:41, 110.55s/it]"
     ]
    },
    {
     "name": "stdout",
     "output_type": "stream",
     "text": [
      "训练集精度0.9286151960784313\n",
      "验证集精度0.9375\n",
      "测试集精度0.9125\n"
     ]
    },
    {
     "name": "stderr",
     "output_type": "stream",
     "text": [
      " 97%|█████████▋| 29/30 [55:13<01:49, 109.26s/it]"
     ]
    },
    {
     "name": "stdout",
     "output_type": "stream",
     "text": [
      "训练集精度0.9362745098039216\n",
      "验证集精度0.946875\n",
      "测试集精度0.9078125\n"
     ]
    },
    {
     "name": "stderr",
     "output_type": "stream",
     "text": [
      "100%|██████████| 30/30 [57:00<00:00, 114.03s/it]"
     ]
    },
    {
     "name": "stdout",
     "output_type": "stream",
     "text": [
      "训练集精度0.9320618872549019\n",
      "验证集精度0.9375\n",
      "测试集精度0.903125\n",
      "训练集最终精度0.9319087009803921\n",
      "验证集最终精度0.9296875\n",
      "测试集最终精度0.9203125\n"
     ]
    },
    {
     "name": "stderr",
     "output_type": "stream",
     "text": [
      "\n"
     ]
    }
   ],
   "source": [
    "'''定义用zero-shot KD训练的student模型和损失函数和优化器'''\n",
    "\n",
    "print('*******************利用DI训练student model，加上student与teachermodel对DI的softmax输出KL散度做损失****************************')\n",
    "\n",
    "bert_student = Bert_student(MyModel_Config(train_original_labels))\n",
    "optimizer = torch.optim.AdamW(bert_student.parameters(), lr=1e-4)\n",
    "loss_func = nn.KLDivLoss()\n",
    "loss_func2 = nn.CrossEntropyLoss()\n",
    "\n",
    "accuracy_train, _ = Model_Train().eval_for_incremental(bert_student, train_original_datas, loss_func2)\n",
    "accuracy_dev, _ = Model_Train().eval_for_incremental(bert_student, dev_original_datas, loss_func2)\n",
    "accuracy_test, _ = Model_Train().eval_for_incremental(bert_student, test_original_datas, loss_func2)\n",
    "print(accuracy_train)\n",
    "print(accuracy_dev)\n",
    "print(accuracy_test)\n",
    "\n",
    "train_KD_student(teacher_model, bert_student, DI_datasets, optimizer, loss_func, loss_func2, 5, 30, train_original_datas, dev_original_datas, test_original_datas)\n",
    "#train_KD_student(bert_cnn, bert_cnn_student, DI_datasets_padding, optimizer, loss_func, loss_func2, 5, 30) #用padding后的DI来KD，对比OOD"
   ]
  },
  {
   "cell_type": "code",
   "execution_count": null,
   "metadata": {},
   "outputs": [],
   "source": [
    "'''读取OOD的wiki103数据'''\n",
    "import os\n",
    "def _read_wiki(data_dir):\n",
    "    file_name = os.path.join(data_dir, 'wiki.train.tokens')\n",
    "    with open(file_name, encoding='utf-8') as f:\n",
    "        lines = f.readlines()\n",
    "    # 大写字母转换为小写字母\n",
    "    paragraphs = [line.strip().lower().split(' . ')\n",
    "                  for line in lines if len(line.split(' . ')) >= 2]\n",
    "    random.shuffle(paragraphs)\n",
    "    return paragraphs\n",
    "\n",
    "paragraphs = _read_wiki('./wiki103')"
   ]
  },
  {
   "cell_type": "code",
   "execution_count": null,
   "metadata": {},
   "outputs": [
    {
     "name": "stderr",
     "output_type": "stream",
     "text": [
      "100%|██████████| 760542/760542 [20:28<00:00, 618.85it/s]  \n"
     ]
    }
   ],
   "source": [
    "'''将读取的wiki数据tokenize'''\n",
    "tokenizer = BertTokenizer.from_pretrained('./bert-pretrained')\n",
    "tokens = []\n",
    "datas_size = len(paragraphs)\n",
    "for l in tqdm(range(datas_size)):\n",
    "    for k in range(len(paragraphs[l])):\n",
    "        text = paragraphs[l][k]\n",
    "        text = tokenizer.tokenize(text)\n",
    "        token = tokenizer.convert_tokens_to_ids(text)\n",
    "        tokens.append(token)"
   ]
  },
  {
   "cell_type": "code",
   "execution_count": null,
   "metadata": {},
   "outputs": [
    {
     "name": "stdout",
     "output_type": "stream",
     "text": [
      "15751\n"
     ]
    }
   ],
   "source": [
    "ood_num = 16000\n",
    "ood_datas = []\n",
    "temp = [[] for i in range(len(tokens))] #这样防止temp和tokens地址相同\n",
    "for i in range(len(tokens)):\n",
    "    temp[i] = tokens[i]\n",
    "for i in range(ood_num):  #Bert最长读512最少读2长度的tokens,所以要处理\n",
    "    if len(temp[i]) <98 and len(temp[i])>2:\n",
    "        temp[i].insert(0,101)\n",
    "        temp[i].append(102)\n",
    "        while len(tokens[i]) <100:\n",
    "            temp[i].append(0)  #padding\n",
    "        ood_datas.append(temp[i])\n",
    "        \n",
    "print(len(ood_datas))"
   ]
  },
  {
   "cell_type": "code",
   "execution_count": null,
   "metadata": {},
   "outputs": [
    {
     "name": "stdout",
     "output_type": "stream",
     "text": [
      "选取ood数据的平均长度为：31.243857532855056\n"
     ]
    }
   ],
   "source": [
    "counts =0\n",
    "for data in ood_datas:\n",
    "    count = 0\n",
    "    for j in range(len(data)):\n",
    "        if data[j] == 0:\n",
    "            break\n",
    "        count += 1\n",
    "    counts += count\n",
    "ave = counts / len(ood_datas)\n",
    "print('选取ood数据的平均长度为：'+ str(ave))"
   ]
  },
  {
   "cell_type": "code",
   "execution_count": null,
   "metadata": {},
   "outputs": [],
   "source": [
    "ood_datasets = TensorDataset(torch.tensor(ood_datas).long())\n",
    "ood_datasets = DataLoader(ood_datasets, batch_size=128, shuffle=True, drop_last=True, num_workers=2)"
   ]
  },
  {
   "cell_type": "code",
   "execution_count": null,
   "metadata": {},
   "outputs": [],
   "source": [
    "OOD_number = 8000\n",
    "ood_datas_2 = torch.tensor([])\n",
    "\n",
    "for i,data in enumerate(ood_datasets):\n",
    "    if len(ood_datas_2) > 8000:\n",
    "        break\n",
    "    ood_datas_2 = torch.cat([ood_datas_2, data[0]], dim=0)\n",
    "ood_datasets_4000 = TensorDataset(ood_datas_2.long())\n",
    "ood_datasets_4000 = DataLoader(ood_datasets_4000, batch_size=64, shuffle=True, drop_last=True, num_workers=2)"
   ]
  },
  {
   "cell_type": "code",
   "execution_count": null,
   "metadata": {},
   "outputs": [
    {
     "name": "stdout",
     "output_type": "stream",
     "text": [
      "*******************利用ood训练student model，加上student与teachermodel对DI的softmax输出KL散度做损失****************************\n"
     ]
    },
    {
     "name": "stderr",
     "output_type": "stream",
     "text": [
      "  3%|▎         | 1/30 [02:49<1:21:43, 169.09s/it]"
     ]
    },
    {
     "name": "stdout",
     "output_type": "stream",
     "text": [
      "训练集精度0.5876991421568627\n",
      "验证集精度0.5953125\n",
      "测试集精度0.60625\n"
     ]
    },
    {
     "name": "stderr",
     "output_type": "stream",
     "text": [
      "  7%|▋         | 2/30 [05:05<1:10:01, 150.05s/it]"
     ]
    },
    {
     "name": "stdout",
     "output_type": "stream",
     "text": [
      "训练集精度0.7598039215686274\n",
      "验证集精度0.7640625\n",
      "测试集精度0.753125\n"
     ]
    },
    {
     "name": "stderr",
     "output_type": "stream",
     "text": [
      " 10%|█         | 3/30 [07:02<1:00:44, 134.98s/it]"
     ]
    },
    {
     "name": "stdout",
     "output_type": "stream",
     "text": [
      "训练集精度0.8391544117647058\n",
      "验证集精度0.85\n",
      "测试集精度0.821875\n"
     ]
    },
    {
     "name": "stderr",
     "output_type": "stream",
     "text": [
      " 13%|█▎        | 4/30 [09:00<55:27, 127.99s/it]  "
     ]
    },
    {
     "name": "stdout",
     "output_type": "stream",
     "text": [
      "训练集精度0.8870251225490197\n",
      "验证集精度0.8625\n",
      "测试集精度0.865625\n"
     ]
    },
    {
     "name": "stderr",
     "output_type": "stream",
     "text": [
      " 17%|█▋        | 5/30 [10:57<51:40, 124.03s/it]"
     ]
    },
    {
     "name": "stdout",
     "output_type": "stream",
     "text": [
      "训练集精度0.9058670343137255\n",
      "验证集精度0.8859375\n",
      "测试集精度0.884375\n"
     ]
    },
    {
     "name": "stderr",
     "output_type": "stream",
     "text": [
      " 20%|██        | 6/30 [12:47<47:45, 119.40s/it]"
     ]
    },
    {
     "name": "stdout",
     "output_type": "stream",
     "text": [
      "训练集精度0.8965992647058824\n",
      "验证集精度0.88125\n",
      "测试集精度0.8890625\n"
     ]
    },
    {
     "name": "stderr",
     "output_type": "stream",
     "text": [
      " 23%|██▎       | 7/30 [14:38<44:44, 116.72s/it]"
     ]
    },
    {
     "name": "stdout",
     "output_type": "stream",
     "text": [
      "训练集精度0.9096200980392157\n",
      "验证集精度0.8859375\n",
      "测试集精度0.890625\n"
     ]
    },
    {
     "name": "stderr",
     "output_type": "stream",
     "text": [
      " 27%|██▋       | 8/30 [16:31<42:19, 115.45s/it]"
     ]
    },
    {
     "name": "stdout",
     "output_type": "stream",
     "text": [
      "训练集精度0.9122242647058824\n",
      "验证集精度0.9\n",
      "测试集精度0.8875\n"
     ]
    },
    {
     "name": "stderr",
     "output_type": "stream",
     "text": [
      " 30%|███       | 9/30 [18:28<40:33, 115.90s/it]"
     ]
    },
    {
     "name": "stdout",
     "output_type": "stream",
     "text": [
      "训练集精度0.9159773284313726\n",
      "验证集精度0.903125\n",
      "测试集精度0.8984375\n"
     ]
    },
    {
     "name": "stderr",
     "output_type": "stream",
     "text": [
      " 33%|███▎      | 10/30 [20:21<38:19, 114.99s/it]"
     ]
    },
    {
     "name": "stdout",
     "output_type": "stream",
     "text": [
      "训练集精度0.9155943627450981\n",
      "验证集精度0.90625\n",
      "测试集精度0.89375\n"
     ]
    },
    {
     "name": "stderr",
     "output_type": "stream",
     "text": [
      " 37%|███▋      | 11/30 [22:09<35:47, 113.02s/it]"
     ]
    },
    {
     "name": "stdout",
     "output_type": "stream",
     "text": [
      "训练集精度0.9221813725490197\n",
      "验证集精度0.90625\n",
      "测试集精度0.9046875\n"
     ]
    },
    {
     "name": "stderr",
     "output_type": "stream",
     "text": [
      " 40%|████      | 12/30 [23:57<33:25, 111.39s/it]"
     ]
    },
    {
     "name": "stdout",
     "output_type": "stream",
     "text": [
      "训练集精度0.9210324754901961\n",
      "验证集精度0.9\n",
      "测试集精度0.9078125\n"
     ]
    },
    {
     "name": "stderr",
     "output_type": "stream",
     "text": [
      " 43%|████▎     | 13/30 [25:52<31:53, 112.54s/it]"
     ]
    },
    {
     "name": "stdout",
     "output_type": "stream",
     "text": [
      "训练集精度0.921109068627451\n",
      "验证集精度0.9140625\n",
      "测试集精度0.9109375\n"
     ]
    },
    {
     "name": "stderr",
     "output_type": "stream",
     "text": [
      " 47%|████▋     | 14/30 [27:41<29:40, 111.31s/it]"
     ]
    },
    {
     "name": "stdout",
     "output_type": "stream",
     "text": [
      "训练集精度0.9201899509803921\n",
      "验证集精度0.89375\n",
      "测试集精度0.90625\n"
     ]
    },
    {
     "name": "stderr",
     "output_type": "stream",
     "text": [
      " 50%|█████     | 15/30 [29:33<27:55, 111.71s/it]"
     ]
    },
    {
     "name": "stdout",
     "output_type": "stream",
     "text": [
      "训练集精度0.9242493872549019\n",
      "验证集精度0.909375\n",
      "测试集精度0.9046875\n"
     ]
    },
    {
     "name": "stderr",
     "output_type": "stream",
     "text": [
      " 53%|█████▎    | 16/30 [31:26<26:09, 112.09s/it]"
     ]
    },
    {
     "name": "stdout",
     "output_type": "stream",
     "text": [
      "训练集精度0.9234834558823529\n",
      "验证集精度0.9109375\n",
      "测试集精度0.9046875\n"
     ]
    },
    {
     "name": "stderr",
     "output_type": "stream",
     "text": [
      " 57%|█████▋    | 17/30 [33:10<23:45, 109.66s/it]"
     ]
    },
    {
     "name": "stdout",
     "output_type": "stream",
     "text": [
      "训练集精度0.9258578431372549\n",
      "验证集精度0.903125\n",
      "测试集精度0.9046875\n"
     ]
    },
    {
     "name": "stderr",
     "output_type": "stream",
     "text": [
      " 60%|██████    | 18/30 [35:12<22:39, 113.26s/it]"
     ]
    },
    {
     "name": "stdout",
     "output_type": "stream",
     "text": [
      "训练集精度0.9231770833333334\n",
      "验证集精度0.9046875\n",
      "测试集精度0.9078125\n"
     ]
    },
    {
     "name": "stderr",
     "output_type": "stream",
     "text": [
      " 63%|██████▎   | 19/30 [37:00<20:29, 111.82s/it]"
     ]
    },
    {
     "name": "stdout",
     "output_type": "stream",
     "text": [
      "训练集精度0.9216452205882353\n",
      "验证集精度0.903125\n",
      "测试集精度0.9109375\n"
     ]
    },
    {
     "name": "stderr",
     "output_type": "stream",
     "text": [
      " 67%|██████▋   | 20/30 [38:51<18:34, 111.50s/it]"
     ]
    },
    {
     "name": "stdout",
     "output_type": "stream",
     "text": [
      "训练集精度0.91796875\n",
      "验证集精度0.9\n",
      "测试集精度0.9125\n"
     ]
    },
    {
     "name": "stderr",
     "output_type": "stream",
     "text": [
      " 70%|███████   | 21/30 [40:44<16:46, 111.88s/it]"
     ]
    },
    {
     "name": "stdout",
     "output_type": "stream",
     "text": [
      "训练集精度0.9194240196078431\n",
      "验证集精度0.896875\n",
      "测试集精度0.909375\n"
     ]
    },
    {
     "name": "stderr",
     "output_type": "stream",
     "text": [
      " 73%|███████▎  | 22/30 [42:37<14:57, 112.13s/it]"
     ]
    },
    {
     "name": "stdout",
     "output_type": "stream",
     "text": [
      "训练集精度0.9205729166666666\n",
      "验证集精度0.903125\n",
      "测试集精度0.909375\n"
     ]
    },
    {
     "name": "stderr",
     "output_type": "stream",
     "text": [
      " 77%|███████▋  | 23/30 [44:23<12:52, 110.39s/it]"
     ]
    },
    {
     "name": "stdout",
     "output_type": "stream",
     "text": [
      "训练集精度0.9171262254901961\n",
      "验证集精度0.8921875\n",
      "测试集精度0.909375\n"
     ]
    },
    {
     "name": "stderr",
     "output_type": "stream",
     "text": [
      " 80%|████████  | 24/30 [46:15<11:05, 110.98s/it]"
     ]
    },
    {
     "name": "stdout",
     "output_type": "stream",
     "text": [
      "训练集精度0.9244025735294118\n",
      "验证集精度0.903125\n",
      "测试集精度0.9078125\n"
     ]
    },
    {
     "name": "stderr",
     "output_type": "stream",
     "text": [
      " 83%|████████▎ | 25/30 [48:08<09:17, 111.46s/it]"
     ]
    },
    {
     "name": "stdout",
     "output_type": "stream",
     "text": [
      "训练集精度0.9223345588235294\n",
      "验证集精度0.9\n",
      "测试集精度0.903125\n"
     ]
    },
    {
     "name": "stderr",
     "output_type": "stream",
     "text": [
      " 87%|████████▋ | 26/30 [50:05<07:32, 113.07s/it]"
     ]
    },
    {
     "name": "stdout",
     "output_type": "stream",
     "text": [
      "训练集精度0.9200367647058824\n",
      "验证集精度0.90625\n",
      "测试集精度0.90625\n"
     ]
    },
    {
     "name": "stderr",
     "output_type": "stream",
     "text": [
      " 90%|█████████ | 27/30 [52:09<05:48, 116.30s/it]"
     ]
    },
    {
     "name": "stdout",
     "output_type": "stream",
     "text": [
      "训练集精度0.9209558823529411\n",
      "验证集精度0.8984375\n",
      "测试集精度0.9046875\n"
     ]
    },
    {
     "name": "stderr",
     "output_type": "stream",
     "text": [
      " 93%|█████████▎| 28/30 [53:57<03:48, 114.05s/it]"
     ]
    },
    {
     "name": "stdout",
     "output_type": "stream",
     "text": [
      "训练集精度0.9196537990196079\n",
      "验证集精度0.9\n",
      "测试集精度0.90625\n"
     ]
    },
    {
     "name": "stderr",
     "output_type": "stream",
     "text": [
      " 97%|█████████▋| 29/30 [55:50<01:53, 113.76s/it]"
     ]
    },
    {
     "name": "stdout",
     "output_type": "stream",
     "text": [
      "训练集精度0.9225643382352942\n",
      "验证集精度0.90625\n",
      "测试集精度0.909375\n"
     ]
    },
    {
     "name": "stderr",
     "output_type": "stream",
     "text": [
      "100%|██████████| 30/30 [57:47<00:00, 115.60s/it]"
     ]
    },
    {
     "name": "stdout",
     "output_type": "stream",
     "text": [
      "训练集精度0.9234834558823529\n",
      "验证集精度0.90625\n",
      "测试集精度0.909375\n",
      "训练集最终精度0.91796875\n",
      "验证集最终精度0.9\n",
      "测试集最终精度0.9125\n"
     ]
    },
    {
     "name": "stderr",
     "output_type": "stream",
     "text": [
      "\n"
     ]
    },
    {
     "name": "stdout",
     "output_type": "stream",
     "text": [
      "训练集最终精度0.9096200980392157\n",
      "验证集最终精度0.9\n",
      "测试集最终精度0.890625\n"
     ]
    }
   ],
   "source": [
    "'''用ood数据直接进行KL散度蒸馏studentmodel'''\n",
    "print('*******************利用ood训练student model，加上student与teachermodel对DI的softmax输出KL散度做损失****************************')\n",
    "bert_student = Bert_student(MyModel_Config(train_original_labels))\n",
    "optimizer = torch.optim.AdamW(bert_student.parameters(), lr=1e-4)\n",
    "loss_func = nn.KLDivLoss()\n",
    "loss_func2 = nn.CrossEntropyLoss()\n",
    "\n",
    "train_KD_student(teacher_model, bert_student, ood_datasets, optimizer, loss_func, loss_func2, 5, 30, train_original_datas, dev_original_datas, test_original_datas)\n",
    "accuracy_train, loss_train = Model_Train().eval_for_incremental(bert_student, train_original_datas, loss_func2)\n",
    "accuracy_dev, loss_dev = Model_Train().eval_for_incremental(bert_student, dev_original_datas, loss_func2)\n",
    "accuracy_test, loss_test = Model_Train().eval_for_incremental(bert_student, test_original_datas, loss_func2)\n",
    "print('训练集最终精度'+str(accuracy_train))\n",
    "print('验证集最终精度'+str(accuracy_dev))\n",
    "print('测试集最终精度'+str(accuracy_test))\n"
   ]
  },
  {
   "cell_type": "code",
   "execution_count": 19,
   "metadata": {},
   "outputs": [],
   "source": [
    "'''Hinton few-shotKD'''\n",
    "def train_HintonKD_student(teacher_model, student_model, datas, optimizer, loss_func, loss_func2, temper, epochs, train_original_datas, dev_original_datas, test_original_datas ):\n",
    "    device = 'cuda:0'\n",
    "    teacher_model = teacher_model.to(device)\n",
    "    student_model = student_model.to(device)\n",
    "    teacher_model.eval()\n",
    "    student_model.train()\n",
    "    \n",
    "    losses = [] #存放所有样本一个epoch的损失\n",
    "    accuracies = []\n",
    "\n",
    "    #scheduler = torch.optim.lr_scheduler.ExponentialLR(optimizer, gamma=0.99)#每一轮epoch学习率递减\n",
    "    max_acc_fin = 0\n",
    "    for epoch in tqdm(range(epochs)):\n",
    "        \n",
    "        max_acc_test = 0\n",
    "        '''对每个batch的训练'''\n",
    "        for idx, data in enumerate(datas):  #idx表示第几个batch，datas为[batch_size, tokens, label]的数据\n",
    "            \n",
    "            student_model.train()\n",
    "            tokens = data[0].to(device)\n",
    "            labels = data[1].to(device)\n",
    "        \n",
    "            optimizer.zero_grad() #新batch训练时将梯度归0，防止梯度累积\n",
    "            \n",
    "            with torch.no_grad():\n",
    "                probs_teacher = teacher_model(tokens)\n",
    "            \n",
    "            probs_student = student_model(tokens)\n",
    " \n",
    "            loss = loss_func(F.log_softmax(probs_student / temper, dim=1), F.softmax(probs_teacher / temper, dim=1)) + 0.5*loss_func2(probs_student, labels)\n",
    "            loss.backward()#这里不用loss.requires_grad_(True)的原因是优化器优化的参数中间步骤不包括梯度不动的teacher_model\n",
    "            optimizer.step()\n",
    "            #scheduler.step()#学习率递减\n",
    "            \n",
    "            student_model.eval()\n",
    "            accuracy_test, _ = Model_Train().eval_for_incremental(student_model, test_original_datas, loss_func2)\n",
    "            \n",
    "            if max_acc_test<accuracy_test:\n",
    "                max_acc_test = accuracy_test\n",
    "                accuracy_train, _ = Model_Train().eval_for_incremental(student_model, train_original_datas, loss_func2)\n",
    "                accuracy_dev, _ = Model_Train().eval_for_incremental(student_model, dev_original_datas, loss_func2)\n",
    "        \n",
    "        print('训练集精度'+str(accuracy_train))\n",
    "        print('验证集精度'+str(accuracy_dev))\n",
    "        print('测试集精度'+str(max_acc_test))\n",
    "        \n",
    "        if max_acc_fin<max_acc_test:\n",
    "            max_acc_fin = max_acc_test\n",
    "            accuracy_train_fin = accuracy_train\n",
    "            accuracy_dev_fin = accuracy_dev\n",
    "\n",
    "        student_model.train()\n",
    "    \n",
    "    print('训练集最终精度'+str(accuracy_train_fin))\n",
    "    print('验证集最终精度'+str(accuracy_dev_fin))\n",
    "    print('测试集最终精度'+str(max_acc_fin))\n",
    "            \n",
    "               "
   ]
  },
  {
   "cell_type": "code",
   "execution_count": 25,
   "metadata": {},
   "outputs": [
    {
     "name": "stdout",
     "output_type": "stream",
     "text": [
      "***********************随机保存一定数量的原始数据训练student model,即hinton的few-shot KD******************\n"
     ]
    },
    {
     "name": "stderr",
     "output_type": "stream",
     "text": [
      "  5%|▌         | 1/20 [00:15<04:45, 15.03s/it]"
     ]
    },
    {
     "name": "stdout",
     "output_type": "stream",
     "text": [
      "训练集精度0.6135110294117647\n",
      "验证集精度0.615625\n",
      "测试集精度0.5890625\n"
     ]
    },
    {
     "name": "stderr",
     "output_type": "stream",
     "text": [
      " 10%|█         | 2/20 [00:30<04:30, 15.04s/it]"
     ]
    },
    {
     "name": "stdout",
     "output_type": "stream",
     "text": [
      "训练集精度0.8386948529411765\n",
      "验证集精度0.8578125\n",
      "测试集精度0.8\n"
     ]
    },
    {
     "name": "stderr",
     "output_type": "stream",
     "text": [
      " 15%|█▌        | 3/20 [00:45<04:15, 15.02s/it]"
     ]
    },
    {
     "name": "stdout",
     "output_type": "stream",
     "text": [
      "训练集精度0.9138327205882353\n",
      "验证集精度0.921875\n",
      "测试集精度0.8859375\n"
     ]
    },
    {
     "name": "stderr",
     "output_type": "stream",
     "text": [
      " 20%|██        | 4/20 [00:49<02:53, 10.86s/it]"
     ]
    },
    {
     "name": "stdout",
     "output_type": "stream",
     "text": [
      "训练集精度0.9273897058823529\n",
      "验证集精度0.9375\n",
      "测试集精度0.9140625\n"
     ]
    },
    {
     "name": "stderr",
     "output_type": "stream",
     "text": [
      " 25%|██▌       | 5/20 [00:57<02:27,  9.85s/it]"
     ]
    },
    {
     "name": "stdout",
     "output_type": "stream",
     "text": [
      "训练集精度0.9501378676470589\n",
      "验证集精度0.9546875\n",
      "测试集精度0.9234375\n"
     ]
    },
    {
     "name": "stderr",
     "output_type": "stream",
     "text": [
      " 30%|███       | 6/20 [01:07<02:17,  9.80s/it]"
     ]
    },
    {
     "name": "stdout",
     "output_type": "stream",
     "text": [
      "训练集精度0.9578737745098039\n",
      "验证集精度0.9609375\n",
      "测试集精度0.9359375\n"
     ]
    },
    {
     "name": "stderr",
     "output_type": "stream",
     "text": [
      " 35%|███▌      | 7/20 [01:15<01:59,  9.21s/it]"
     ]
    },
    {
     "name": "stdout",
     "output_type": "stream",
     "text": [
      "训练集精度0.9605545343137255\n",
      "验证集精度0.96875\n",
      "测试集精度0.9375\n"
     ]
    },
    {
     "name": "stderr",
     "output_type": "stream",
     "text": [
      " 40%|████      | 8/20 [01:21<01:39,  8.26s/it]"
     ]
    },
    {
     "name": "stdout",
     "output_type": "stream",
     "text": [
      "训练集精度0.9653033088235294\n",
      "验证集精度0.9671875\n",
      "测试集精度0.946875\n"
     ]
    },
    {
     "name": "stderr",
     "output_type": "stream",
     "text": [
      " 45%|████▌     | 9/20 [01:27<01:23,  7.60s/it]"
     ]
    },
    {
     "name": "stdout",
     "output_type": "stream",
     "text": [
      "训练集精度0.9677542892156863\n",
      "验证集精度0.9703125\n",
      "测试集精度0.95\n"
     ]
    },
    {
     "name": "stderr",
     "output_type": "stream",
     "text": [
      " 50%|█████     | 10/20 [01:39<01:27,  8.78s/it]"
     ]
    },
    {
     "name": "stdout",
     "output_type": "stream",
     "text": [
      "训练集精度0.9688265931372549\n",
      "验证集精度0.971875\n",
      "测试集精度0.9546875\n"
     ]
    },
    {
     "name": "stderr",
     "output_type": "stream",
     "text": [
      " 55%|█████▌    | 11/20 [01:47<01:16,  8.56s/it]"
     ]
    },
    {
     "name": "stdout",
     "output_type": "stream",
     "text": [
      "训练集精度0.9707414215686274\n",
      "验证集精度0.971875\n",
      "测试集精度0.9578125\n"
     ]
    },
    {
     "name": "stderr",
     "output_type": "stream",
     "text": [
      " 60%|██████    | 12/20 [01:55<01:07,  8.40s/it]"
     ]
    },
    {
     "name": "stdout",
     "output_type": "stream",
     "text": [
      "训练集精度0.9731158088235294\n",
      "验证集精度0.9765625\n",
      "测试集精度0.9625\n"
     ]
    },
    {
     "name": "stderr",
     "output_type": "stream",
     "text": [
      " 65%|██████▌   | 13/20 [02:01<00:54,  7.75s/it]"
     ]
    },
    {
     "name": "stdout",
     "output_type": "stream",
     "text": [
      "训练集精度0.9744944852941176\n",
      "验证集精度0.9765625\n",
      "测试集精度0.959375\n"
     ]
    },
    {
     "name": "stderr",
     "output_type": "stream",
     "text": [
      " 70%|███████   | 14/20 [02:07<00:43,  7.32s/it]"
     ]
    },
    {
     "name": "stdout",
     "output_type": "stream",
     "text": [
      "训练集精度0.9742647058823529\n",
      "验证集精度0.9765625\n",
      "测试集精度0.959375\n"
     ]
    },
    {
     "name": "stderr",
     "output_type": "stream",
     "text": [
      " 75%|███████▌  | 15/20 [02:12<00:32,  6.48s/it]"
     ]
    },
    {
     "name": "stdout",
     "output_type": "stream",
     "text": [
      "训练集精度0.9744178921568627\n",
      "验证集精度0.9734375\n",
      "测试集精度0.9640625\n"
     ]
    },
    {
     "name": "stderr",
     "output_type": "stream",
     "text": [
      " 80%|████████  | 16/20 [02:22<00:29,  7.47s/it]"
     ]
    },
    {
     "name": "stdout",
     "output_type": "stream",
     "text": [
      "训练集精度0.9759497549019608\n",
      "验证集精度0.975\n",
      "测试集精度0.959375\n"
     ]
    },
    {
     "name": "stderr",
     "output_type": "stream",
     "text": [
      " 85%|████████▌ | 17/20 [02:28<00:21,  7.10s/it]"
     ]
    },
    {
     "name": "stdout",
     "output_type": "stream",
     "text": [
      "训练集精度0.9767156862745098\n",
      "验证集精度0.978125\n",
      "测试集精度0.9609375\n"
     ]
    },
    {
     "name": "stderr",
     "output_type": "stream",
     "text": [
      " 90%|█████████ | 18/20 [02:32<00:12,  6.31s/it]"
     ]
    },
    {
     "name": "stdout",
     "output_type": "stream",
     "text": [
      "训练集精度0.9764859068627451\n",
      "验证集精度0.9828125\n",
      "测试集精度0.9640625\n"
     ]
    },
    {
     "name": "stderr",
     "output_type": "stream",
     "text": [
      " 95%|█████████▌| 19/20 [02:42<00:07,  7.31s/it]"
     ]
    },
    {
     "name": "stdout",
     "output_type": "stream",
     "text": [
      "训练集精度0.9758731617647058\n",
      "验证集精度0.975\n",
      "测试集精度0.965625\n"
     ]
    },
    {
     "name": "stderr",
     "output_type": "stream",
     "text": [
      "100%|██████████| 20/20 [02:48<00:00,  8.43s/it]"
     ]
    },
    {
     "name": "stdout",
     "output_type": "stream",
     "text": [
      "训练集精度0.9776348039215687\n",
      "验证集精度0.9765625\n",
      "测试集精度0.96875\n",
      "训练集最终精度0.9776348039215687\n",
      "验证集最终精度0.9765625\n",
      "测试集最终精度0.96875\n"
     ]
    },
    {
     "name": "stderr",
     "output_type": "stream",
     "text": [
      "\n"
     ]
    },
    {
     "name": "stdout",
     "output_type": "stream",
     "text": [
      "保存数据集精度0.9966517857142857\n",
      "训练集最终精度0.9774050245098039\n",
      "验证集最终精度0.978125\n",
      "测试集最终精度0.9609375\n"
     ]
    }
   ],
   "source": [
    "'''随机保存一定数量（和DI数量相同做对比）的原始数据，各个类别保存数量相等'''\n",
    "print('***********************随机保存一定数量的原始数据训练student model,即hinton的few-shot KD******************')\n",
    "reserve_num=1000 #一共保存用于KD多少个数据\n",
    "data_num = [0 for i in range(len(train_original_labels))] #记录当前时刻每一类保存了多少个数据\n",
    "tokens_reserved = torch.tensor([])  #用于保存数据\n",
    "labels_reserved = torch.tensor([])\n",
    "\n",
    "\n",
    "for _, data in enumerate(train_original_datas):\n",
    "    for j in range(len(data[1])):\n",
    "        if data_num[data[1][j].item()] < int(reserve_num/len(train_original_labels)): \n",
    "            tokens_reserved = torch.cat([tokens_reserved, data[0][j].view(1,-1)], dim=0)\n",
    "            labels_reserved = torch.cat([labels_reserved, data[1][j].view(1)])\n",
    "            data_num[data[1][j].item()] += 1\n",
    "\n",
    "'''\n",
    "for _, data in enumerate(train_original_datas):\n",
    "    for j in range(len(data[1])):\n",
    "        if data[1][j].item() == 0 or data[1][j].item() == 1 or data[1][j].item() == 2 or data[1][j].item() == 3 or data[1][j]==4 or data[1][j]==5 or data[1][j]==6: \n",
    "            tokens_reserved = torch.cat([tokens_reserved, data[0][j].view(1,-1)], dim=0)\n",
    "            labels_reserved = torch.cat([labels_reserved, data[1][j].view(1)])\n",
    "            data_num[data[1][j].item()] += 1\n",
    "'''\n",
    "\n",
    "\n",
    "'''将保存的数据装入Dataloader中'''\n",
    "reserved_datasets = TensorDataset(tokens_reserved.long(), labels_reserved.long())\n",
    "reserved_datasets = DataLoader(reserved_datasets, batch_size=128, shuffle=True, drop_last=True, num_workers=2)\n",
    "\n",
    "'''定义用zero-shot KD训练的student模型和损失函数和优化器'''\n",
    "bert_student = Bert_student(MyModel_Config(train_original_labels))\n",
    "optimizer = torch.optim.AdamW(bert_student.parameters(), lr=1e-4)\n",
    "loss_func = nn.KLDivLoss()\n",
    "loss_func2 = nn.CrossEntropyLoss()\n",
    "\n",
    "'''hinton方法KD得到的模型精度'''\n",
    "train_HintonKD_student(teacher_model, bert_student, reserved_datasets, optimizer, loss_func, loss_func2, 5, 20, train_original_datas, dev_original_datas, test_original_datas)\n",
    "accuracy_reserved, loss_reserved = Model_Train().eval_for_incremental(bert_student, reserved_datasets, loss_func2)\n",
    "accuracy_train, loss_train = Model_Train().eval_for_incremental(bert_student, train_original_datas, loss_func2)\n",
    "accuracy_dev, loss_dev = Model_Train().eval_for_incremental(bert_student, dev_original_datas, loss_func2)\n",
    "accuracy_test, loss_test = Model_Train().eval_for_incremental(bert_student, test_original_datas, loss_func2)\n",
    "print('保存数据集精度'+str(accuracy_reserved))\n",
    "print('训练集最终精度'+str(accuracy_train))\n",
    "print('验证集最终精度'+str(accuracy_dev))\n",
    "print('测试集最终精度'+str(accuracy_test))"
   ]
  }
 ],
 "metadata": {
  "kernelspec": {
   "display_name": "Python 3.7.11 ('csuse')",
   "language": "python",
   "name": "python3"
  },
  "language_info": {
   "codemirror_mode": {
    "name": "ipython",
    "version": 3
   },
   "file_extension": ".py",
   "mimetype": "text/x-python",
   "name": "python",
   "nbconvert_exporter": "python",
   "pygments_lexer": "ipython3",
   "version": "3.7.11"
  },
  "orig_nbformat": 4,
  "vscode": {
   "interpreter": {
    "hash": "07ab6d371e845a933fefd78872ae9ed5c08b7429001c2088fe7b56efc961c495"
   }
  }
 },
 "nbformat": 4,
 "nbformat_minor": 2
}
